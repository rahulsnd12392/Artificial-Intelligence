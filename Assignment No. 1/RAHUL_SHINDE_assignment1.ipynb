{
 "cells": [
  {
   "cell_type": "markdown",
   "metadata": {
    "id": "KH1K6cXFvnmj"
   },
   "source": [
    "<div align=\"center\"> <h3><font color='blue'>EAS 595 -- Fundamentals of AI, Fall 2021 </font> \n",
    "<h1> Assignment 1 - Python Intro \n",
    "\n",
    "<h3><font color='red'>Checkpoint:</font> September 12, 2021, 11:59pm \n",
    "<h2><font color='red'>Due Date: </font> September 26, 2021, 11:59pm</div>\n",
    "\n",
    "Welcome to your first EAS 595 assignment! The goal of this assignment is to sharpen your programming skills needed for this class. It is focused on familiarizing yourself with Python and main data science libraries that will be used for other assignment as well.\n",
    "\n",
    "There are a total of five parts. We will focus on basic Python functions, explore numpy, pandas and matplotlib libraries and analyze the real-world dataset.\n",
    "\n",
    "If you are new to Python, check our [Python resources page](https://ubuffalo-my.sharepoint.com/:w:/g/personal/avereshc_buffalo_edu/ESoUg6v6aoJImaeWXy90SqMBiubxGGAkG7dhaNyhuBum_w?e=3Tlwbz) and our class demos.\n",
    "\n",
    "\n",
    "### Submission\n",
    "\n",
    "All the details you need for this assignment are located within this notebook. You are expected to follow every block and complete the task within the marks ``` # BEGIN_YOUR_CODE ``` and ```# END_YOUR_CODE```. Do not modify or edit code beyond these lines. You can add helper functions in the new cells, if needed. We recommend completing the task within this .ipynb notebook, if needed you can convert it and submit as .py script. Try to make your code as clean and simple as possible and be sure to write your answers between the begin answer and end answer comments.\n",
    "\n",
    "1. Submit at **UBLearns > Assignments**\n",
    "2. The code of your implementations should be written in Python\n",
    "3. All project files should be packed in a ZIP file named YOUR_FIRST_NAME_YOUR_LAST_NAME_assignment1.zip (e.g. alina_vereshchaka_assignment1.zip).\n",
    "4. Your Jupyter notebook should be saved with the results. If you are submitting python scripts, after extracting the ZIP file and executing command python main.py in the first level directory, all the generated results and plots you used in your report should appear printed out in a clear manner.  \n",
    "6. Include all the references that have been used to complete the assignment.\n",
    "\n",
    "\n",
    "**Assignment Outline**\n",
    "\n",
    "| Part | Description | # of tasks | Points |\n",
    "| --- | --- | --- | --- |\n",
    "| [Part 1](#part1) | Basics | 8 | 20 |\n",
    "| [Part 2](#part2) | Numpy Basics | 9 | 20 |\n",
    "| [Part 3](#part3) | Algorithms | 2 | 20 |\n",
    "| [Part 4](#part4) | Pandas Basics | 7 | 20 |\n",
    "| [Part 5](#part5) | Matplotlib Basics | 8 | 20 |\n",
    "\n",
    "    \n",
    "### Important Information\n",
    "\n",
    "This assignment must be done individually. The standing policy of the Department is that all students involved in an academic integrity violation (e.g. plagiarism in any way, shape, or form) will receive an F grade for the course. Refer to the [Office of Academic Integrity](https://www.buffalo.edu/academic-integrity.html) for more details.\n",
    "\n",
    "\n",
    "### FAQ\n",
    ">What does 'raise Exception(\"Not implemented yet\")' mean?\n",
    "\n",
    "Here we define a custom exception to highlight that the task is not implemented yet. Once you implement your code, ensure to remove this part.\n",
    "\n",
    ">Can I add code beyond # BEGIN_YOUR_CODE parts.\n",
    "\n",
    "Yes, you can add helper functions. Add them in the separate cell with the comments, why you need it\n"
   ]
  },
  {
   "cell_type": "markdown",
   "metadata": {
    "id": "RiMGYifjvnmy"
   },
   "source": [
    "<a id='part1'></a>\n",
    "## Part 1 - Pyhton Basics [20 points]"
   ]
  },
  {
   "cell_type": "markdown",
   "metadata": {
    "id": "2LUCpwD6vnm1"
   },
   "source": [
    "The first part of this assignment gives you practice with python syntax. Follow the cells below for the instructions."
   ]
  },
  {
   "cell_type": "code",
   "execution_count": 192,
   "metadata": {
    "colab": {
     "base_uri": "https://localhost:8080/"
    },
    "id": "pYW7jZF2vnm2",
    "outputId": "353842fc-3622-46f3-a307-132850f3dab9"
   },
   "outputs": [
    {
     "name": "stdout",
     "output_type": "stream",
     "text": [
      "Hello Hello Hello Hello Hello Hello Hello Hello Hello Hello Hello Hello Hello Hello Hello Hello Hello Hello Hello Hello Hello Hello Hello Hello Hello Hello Hello Hello Hello Hello Hello Hello Hello Hello Hello Hello Hello Hello Hello Hello Hello Hello Hello Hello Hello Hello Hello Hello Hello Hello Hello Hello Hello Hello Hello Hello Hello Hello Hello Hello Hello Hello Hello Hello Hello Hello Hello Hello Hello Hello Hello Hello Hello Hello Hello Hello Hello Hello Hello Hello Hello Hello Hello Hello Hello Hello Hello Hello Hello Hello Hello Hello Hello Hello Hello Hello Hello Hello Hello Hello \n"
     ]
    }
   ],
   "source": [
    "''' Hello\n",
    "Print a word \"Hello \" 100 times\n",
    "'''\n",
    "\n",
    "# BEGIN_YOUR_CODE\n",
    "\n",
    "print(\"Hello \" * 100)\n",
    "\n",
    "# END_YOUR_CODE"
   ]
  },
  {
   "cell_type": "code",
   "execution_count": 193,
   "metadata": {},
   "outputs": [
    {
     "name": "stdout",
     "output_type": "stream",
     "text": [
      "Hello World\n"
     ]
    }
   ],
   "source": [
    "''' Hello World\n",
    "Using two variables hello and world defined below return 'Hello World'. \n",
    "'''\n",
    "\n",
    "hello  = 'hello'\n",
    "world = 'world'\n",
    "\n",
    "# BEGIN_YOUR_CODE\n",
    "# def hello_world():\n",
    "    \n",
    "#     return hello.capitalize() +\" \"+world.capitalize()\n",
    "# hello_world()\n",
    "\n",
    "print(hello.capitalize()+ \" \" + world.capitalize())\n",
    "# END_YOUR_CODE"
   ]
  },
  {
   "cell_type": "code",
   "execution_count": 194,
   "metadata": {},
   "outputs": [
    {
     "data": {
      "text/plain": [
       "[0, 1, 2, 3, 4, 5]"
      ]
     },
     "execution_count": 194,
     "metadata": {},
     "output_type": "execute_result"
    }
   ],
   "source": [
    "''' Updating elements\n",
    "Given a string my_list, update the fourth element to '3', so the output is as follows: [0, 1, 2, 3, 4, 5]\n",
    "'''\n",
    "\n",
    "my_list = [0, 1, 2, 'three', 4, 5]\n",
    "\n",
    "# BEGIN_YOUR_CODE\n",
    "my_list[3] = 3\n",
    "my_list\n",
    "# END_YOUR_CODE"
   ]
  },
  {
   "cell_type": "code",
   "execution_count": 195,
   "metadata": {
    "colab": {
     "base_uri": "https://localhost:8080/"
    },
    "id": "eQ7SJvrLvnm5",
    "outputId": "826dcd4e-03ea-4491-fa66-4bbd4123e4ba"
   },
   "outputs": [
    {
     "data": {
      "text/plain": [
       "['rabbit', 'dog', 'elephant', 'cat']"
      ]
     },
     "execution_count": 195,
     "metadata": {},
     "output_type": "execute_result"
    }
   ],
   "source": [
    "''' Reversing\n",
    "Reverse the order of elements in a list given below, so the output is as follows: ['rabbit', 'dog', 'elephant', 'cat']\n",
    "'''\n",
    "\n",
    "list1 = [\"cat\", \"elephant\", \"dog\", \"rabbit\"]\n",
    "\n",
    "# BEGIN_YOUR_CODE\n",
    "list1.reverse()\n",
    "list1\n",
    "\n",
    "#list1[::-1]\n",
    "\n",
    "# END_YOUR_CODE"
   ]
  },
  {
   "cell_type": "code",
   "execution_count": 196,
   "metadata": {
    "colab": {
     "base_uri": "https://localhost:8080/"
    },
    "id": "G472Jj3gvnm6",
    "outputId": "4c979e16-2581-4332-8c33-813f04f45352"
   },
   "outputs": [
    {
     "data": {
      "text/plain": [
       "'abcde'"
      ]
     },
     "execution_count": 196,
     "metadata": {},
     "output_type": "execute_result"
    }
   ],
   "source": [
    "'''Concatenating strings\n",
    "Concatenate strings in a list below, so the output is as follows: \"abcde\" ####HERE\n",
    "'''\n",
    "\n",
    "list2 = ['a', 'b', 'c', 'd', 'e']\n",
    "\n",
    "# BEGIN_YOUR_CODE\n",
    "\"\".join(list2)\n",
    "# END_YOUR_CODE"
   ]
  },
  {
   "cell_type": "code",
   "execution_count": 197,
   "metadata": {
    "colab": {
     "base_uri": "https://localhost:8080/"
    },
    "id": "vsIKrnuFvnm7",
    "outputId": "1aac4459-3c65-4312-bbc3-698b616f8bf5"
   },
   "outputs": [
    {
     "name": "stdout",
     "output_type": "stream",
     "text": [
      "#1: Yann LeCun\n",
      "#2: Yoshua Bengio\n",
      "#3: Geoffrey Hinton\n",
      "#4: Fei-Fei Li\n",
      "#5: Andrew Ng\n"
     ]
    }
   ],
   "source": [
    "'''Numbering a list\n",
    "Print a numbered list of the famous AI researchers using \"enumerate()\" function\n",
    "'''\n",
    "\n",
    "researchers = ['Yann LeCun', 'Yoshua Bengio', 'Geoffrey Hinton', 'Fei-Fei Li', 'Andrew Ng']\n",
    "\n",
    "# BEGIN_YOUR_CODE\n",
    "for id, researchers in enumerate(researchers):\n",
    "    print('#{}: {}'.format(id + 1, researchers))\n",
    "# END_YOUR_CODE"
   ]
  },
  {
   "cell_type": "code",
   "execution_count": 198,
   "metadata": {
    "colab": {
     "base_uri": "https://localhost:8080/"
    },
    "id": "Izsh0n6Hvnm8",
    "outputId": "db845742-d150-411b-bdbb-6cbc5f461fd6"
   },
   "outputs": [
    {
     "name": "stdout",
     "output_type": "stream",
     "text": [
      "[('Yann LeCun', 'Facebook'), ('Yoshua Bengio', 'Université de Montréal'), ('Geoffrey Hinton', 'University of Toronto'), ('Fei-Fei Li', 'Stanford University'), ('Andrew Ng', 'Landing AI')]\n"
     ]
    }
   ],
   "source": [
    "'''Combining lists\n",
    "Combine two lists given below using zip() fucntion and print out the result'''\n",
    "\n",
    "researchers = ['Yann LeCun', 'Yoshua Bengio', 'Geoffrey Hinton', 'Fei-Fei Li', 'Andrew Ng']\n",
    "work = ['Facebook', 'Université de Montréal', 'University of Toronto', 'Stanford University', 'Landing AI']\n",
    "\n",
    "# BEGIN_YOUR_CODE\n",
    "zipped = zip(researchers, work)\n",
    "\n",
    "zipped_list = list(zipped)\n",
    "\n",
    "print(zipped_list)\n",
    "\n",
    "# END_YOUR_CODE"
   ]
  },
  {
   "cell_type": "code",
   "execution_count": 199,
   "metadata": {
    "id": "tM242AlVvnm9"
   },
   "outputs": [],
   "source": [
    "''' Sum function\n",
    "Modify the function below to return a sum of a and b '''\n",
    "\n",
    "def add(a: int, b: int) -> int:\n",
    "    \n",
    "    # BEGIN_YOUR_CODE\n",
    "    return a+b\n",
    "#     raise Exception(\"Not implemented yet\")\n",
    "\n",
    "    # END_YOUR_CODE"
   ]
  },
  {
   "cell_type": "markdown",
   "metadata": {
    "id": "o4HwFdtlvnm_"
   },
   "source": [
    "We defined ```add_test``` to test your ```add``` function. For this function we ```import random``` library. This is a very commonly used package that helps to generate random values. For example:\n",
    "\n",
    "``` python\n",
    "random.randint(0, 100) #Returns any random integer from 0 to 100\n",
    "```"
   ]
  },
  {
   "cell_type": "code",
   "execution_count": 200,
   "metadata": {
    "id": "TfVs9QUIvnnA"
   },
   "outputs": [],
   "source": [
    "import random\n",
    "\n",
    "def add_test():\n",
    "    a = random.randint(0, 9)\n",
    "    b = random.randint(0, 9)\n",
    "    result = add(a, b)\n",
    "\n",
    "    return('Value of a is {0}, value of b is {1}, and their sum is {2}.'.format(a, b,result))"
   ]
  },
  {
   "cell_type": "code",
   "execution_count": 201,
   "metadata": {
    "colab": {
     "base_uri": "https://localhost:8080/"
    },
    "id": "cOLrlf2GvnnB",
    "outputId": "a02426b5-11ff-46f3-daa9-8026dd110f2d"
   },
   "outputs": [
    {
     "name": "stdout",
     "output_type": "stream",
     "text": [
      "Value of a is 8, value of b is 2, and their sum is 10.\n"
     ]
    }
   ],
   "source": [
    "# Here we call our function 'add_test' to test your add function with random values\n",
    "if __name__ == '__main__':\n",
    "    print(add_test())"
   ]
  },
  {
   "cell_type": "markdown",
   "metadata": {
    "id": "12yDhDMxvnnB"
   },
   "source": [
    "<a id='part2'></a>\n",
    "## Part 2 - Numpy Basics [20 points]"
   ]
  },
  {
   "cell_type": "markdown",
   "metadata": {
    "id": "-JmI82NyvnnC"
   },
   "source": [
    "In this section we will explore one of the most commonly used package - Numpy. You can refer to the [Official NumPy Guide](https://numpy.org/doc/stable/)."
   ]
  },
  {
   "cell_type": "code",
   "execution_count": 202,
   "metadata": {
    "id": "CstiC-8CvnnC"
   },
   "outputs": [],
   "source": [
    "'''Import the numpy package\n",
    "'''\n",
    "\n",
    "# BEGIN_YOUR_CODE\n",
    "import numpy as np\n",
    "# END_YOUR_CODE"
   ]
  },
  {
   "cell_type": "code",
   "execution_count": 203,
   "metadata": {
    "colab": {
     "base_uri": "https://localhost:8080/"
    },
    "id": "2Cdaj9aTvnnE",
    "outputId": "2c7e7f65-9309-40bb-97db-c3372c80f247"
   },
   "outputs": [
    {
     "name": "stdout",
     "output_type": "stream",
     "text": [
      "[11 37  2 47 15  5  6 27 17 47]\n"
     ]
    }
   ],
   "source": [
    "''' Random integers\n",
    "Create an array of random integers from 0 to 50 with the length 10 using numpy random generator\n",
    "'''\n",
    "\n",
    "# BEGIN_YOUR_CODE\n",
    "array = np.random.randint(0, 50, 10)\n",
    "# END_YOUR_CODE\n",
    "\n",
    "print(array)"
   ]
  },
  {
   "cell_type": "code",
   "execution_count": 204,
   "metadata": {
    "colab": {
     "base_uri": "https://localhost:8080/"
    },
    "id": "D_NEdSyVvnnF",
    "outputId": "5fcabe8d-b205-43a1-8300-43d9f0c0911e"
   },
   "outputs": [
    {
     "name": "stdout",
     "output_type": "stream",
     "text": [
      "The first 2 elements are [11 37] \n",
      "The last two elements are [17 47] \n",
      "Elements in the middle are [ 2 47 15  5  6 27].\n"
     ]
    }
   ],
   "source": [
    "''' Slicing\n",
    "Slice the above array and extract the first 2 elements, the last two elements, and all elements that are left in the middle.\n",
    "'''\n",
    "\n",
    "# BEGIN_YOUR_CODE\n",
    "first_two = array[0:2] \n",
    "last_two = array[-2:] \n",
    "middle = array[2:-2]\n",
    "# # END_YOUR_CODE\n",
    "\n",
    "print('The first 2 elements are {0} \\nThe last two elements are {1} \\nElements in the middle are {2}.'.format(first_two, last_two, middle))\n"
   ]
  },
  {
   "cell_type": "code",
   "execution_count": 205,
   "metadata": {
    "colab": {
     "base_uri": "https://localhost:8080/"
    },
    "id": "x39Fry3OvnnF",
    "outputId": "e84ec16d-d351-4405-d0e5-e84d5477aefb"
   },
   "outputs": [
    {
     "name": "stdout",
     "output_type": "stream",
     "text": [
      "(10,)\n"
     ]
    }
   ],
   "source": [
    "'''Changing dimensions\n",
    "Convert your 1D array defined above to a 2D matrix and print its shape. The final output dimension should be 5x2.\n",
    "'''\n",
    "\n",
    "# BEGIN_YOUR_CODE\n",
    "array.reshape(5, 2)\n",
    "print(array.shape)\n",
    "# END_YOUR_CODE"
   ]
  },
  {
   "cell_type": "code",
   "execution_count": 206,
   "metadata": {
    "colab": {
     "base_uri": "https://localhost:8080/"
    },
    "id": "GTPk6XwivnnG",
    "outputId": "c5273563-fcb2-4bda-8067-341aff65524a"
   },
   "outputs": [
    {
     "name": "stdout",
     "output_type": "stream",
     "text": [
      "(6,)\n"
     ]
    }
   ],
   "source": [
    "'''Changing dimensions\n",
    "Convert a matrix below to 1D array and print its dimension\n",
    "'''\n",
    "\n",
    "A = np.array([[1,2], [3,4], [5,6]])\n",
    "\n",
    "# BEGIN_YOUR_CODE\n",
    "\n",
    "A_1d = A.flatten()\n",
    "print(A_1d.shape)\n",
    "\n",
    "# END_YOUR_CODE"
   ]
  },
  {
   "cell_type": "code",
   "execution_count": 207,
   "metadata": {
    "colab": {
     "base_uri": "https://localhost:8080/"
    },
    "id": "ALyMwuojvnnM",
    "outputId": "8e914965-f014-479a-843c-1407a63dd7f0"
   },
   "outputs": [
    {
     "name": "stdout",
     "output_type": "stream",
     "text": [
      "\n",
      "Matrix A is \n",
      "[[0.13481966 0.59300667 0.79057202 0.93139857 0.04887438 0.72630531]\n",
      " [0.64904267 0.61476659 0.23732641 0.08091723 0.43672029 0.31028281]\n",
      " [0.90494984 0.38456591 0.82387439 0.92709395 0.36009774 0.55947474]\n",
      " [0.22676154 0.11584632 0.44886054 0.12288339 0.31359981 0.98380182]\n",
      " [0.48475748 0.30223841 0.01069332 0.71529162 0.8712946  0.02360323]] \n",
      "Matrix B is \n",
      "[[0.41897991 0.31097431 0.88261826 0.25543751 0.21511475]\n",
      " [0.74504181 0.82703363 0.70692863 0.53007537 0.08699158]\n",
      " [0.10147704 0.35443516 0.88986549 0.40647145 0.1531729 ]\n",
      " [0.86720553 0.1790242  0.79461325 0.59745655 0.68903362]\n",
      " [0.10848646 0.87977216 0.60015243 0.26619067 0.12871732]\n",
      " [0.84512012 0.7204784  0.18236609 0.82236858 0.1238454 ]], \n",
      "Their product is \n",
      "[[2.00535784 1.54559692 2.14359763 1.83689194 0.93968797]\n",
      " [1.13382219 1.41663762 1.60162331 1.00789112 0.3798454 ]\n",
      " [2.06514791 1.77734083 2.85854718 1.87973594 1.10875537]\n",
      " [1.19888512 1.33212122 1.14672901 1.26772222 0.37448652]\n",
      " [1.1641451  1.31609939 1.7466266  0.96707762 0.74014244]]\n"
     ]
    }
   ],
   "source": [
    "''' Matrices\n",
    "Create two matrices A and B of size 5X6 and 6X5 respectively with random values from 0 to 1, and perform the dot product on them\n",
    "'''\n",
    "\n",
    "# BEGIN_YOUR_CODE\n",
    "A = np.random.rand(5, 6)\n",
    "B = np.random.rand(6, 5)\n",
    "dot_product =np.dot(A,B) \n",
    "# END_YOUR_CODE\n",
    "\n",
    "# print(A)\n",
    "# print(B)\n",
    "\n",
    "print('\\nMatrix A is \\n{0} \\nMatrix B is \\n{1}, \\nTheir product is \\n{2}'.format(A, B, dot_product))"
   ]
  },
  {
   "cell_type": "code",
   "execution_count": 208,
   "metadata": {
    "colab": {
     "base_uri": "https://localhost:8080/"
    },
    "id": "cf2kSBLXvnnN",
    "outputId": "ed32eeca-dac9-4632-e946-149e1ad60923"
   },
   "outputs": [
    {
     "data": {
      "text/plain": [
       "array([0.93139857, 0.64904267, 0.92709395, 0.98380182, 0.8712946 ])"
      ]
     },
     "execution_count": 208,
     "metadata": {},
     "output_type": "execute_result"
    }
   ],
   "source": [
    "''' Maximum value\n",
    "Return the maximum value present in each row of Matrix A created in the previous question. \n",
    "Result should come in the form: [row1_max row2_max row3_max row4_max row5_max]\n",
    "'''\n",
    "\n",
    "# BEGIN_YOUR_CODE\n",
    "\n",
    "np.max(A, axis=1)\n",
    "\n",
    "# END_YOUR_CODE"
   ]
  },
  {
   "cell_type": "code",
   "execution_count": 209,
   "metadata": {
    "colab": {
     "base_uri": "https://localhost:8080/"
    },
    "id": "khuCG55GvnnO",
    "outputId": "37cc6fd7-43fa-460b-cf3a-56d2ac2001e9"
   },
   "outputs": [
    {
     "data": {
      "text/plain": [
       "array([[0.26963932, 1.18601334, 1.58114405, 1.86279715, 0.09774876,\n",
       "        1.45261061],\n",
       "       [1.29808534, 1.22953318, 0.47465283, 0.16183446, 0.87344058,\n",
       "        0.62056562],\n",
       "       [1.80989968, 0.76913182, 1.64774877, 1.8541879 , 0.72019549,\n",
       "        1.11894948],\n",
       "       [0.45352308, 0.23169264, 0.89772108, 0.24576677, 0.62719963,\n",
       "        1.96760364],\n",
       "       [0.96951496, 0.60447681, 0.02138663, 1.43058324, 1.74258921,\n",
       "        0.04720646]])"
      ]
     },
     "execution_count": 209,
     "metadata": {},
     "output_type": "execute_result"
    }
   ],
   "source": [
    "''' Multiply the Matrix A from previous question with a scalar 2\n",
    "'''\n",
    "\n",
    "# BEGIN_YOUR_CODE\n",
    "A*2\n",
    "\n",
    "# END_YOUR_CODE"
   ]
  },
  {
   "cell_type": "code",
   "execution_count": 210,
   "metadata": {
    "colab": {
     "base_uri": "https://localhost:8080/"
    },
    "id": "KVFM3ERnvnnP",
    "outputId": "e1ea4298-aada-4028-9e86-66f2148d022d"
   },
   "outputs": [
    {
     "name": "stdout",
     "output_type": "stream",
     "text": [
      "\n",
      "Matrix A is \n",
      "[[8 0 0 8]\n",
      " [3 3 8 2]] \n",
      "Matrix B is \n",
      "[[7 0 8 7]\n",
      " [8 6 6 3]], \n",
      "Their element-wise multiplication is \n",
      "[[56  0  0 56]\n",
      " [24 18 48  6]]\n"
     ]
    }
   ],
   "source": [
    "''' Element-wise multiplication\n",
    "Define two matrices A and B 2x4 with random values from 0 to 9. Perform element-wise multiplication of Matrices A and B\n",
    "''' \n",
    "\n",
    "# BEGIN_YOUR_CODE\n",
    "A = np.random.randint(9, size=(2, 4))\n",
    "B = np.random.randint(9, size=(2, 4))\n",
    "multiplicaiton = np.multiply(A,B) \n",
    "# END_YOUR_CODE\n",
    "\n",
    "# print(A)\n",
    "# print(B)\n",
    "\n",
    "print('\\nMatrix A is \\n{0} \\nMatrix B is \\n{1}, \\nTheir element-wise multiplication is \\n{2}'.format(A, B, multiplicaiton))"
   ]
  },
  {
   "cell_type": "markdown",
   "metadata": {
    "id": "uiyFNoJivnnQ"
   },
   "source": [
    "<a id='part3'></a>\n",
    "## Part 3 - Algorithms [30 points]"
   ]
  },
  {
   "cell_type": "markdown",
   "metadata": {
    "id": "bE9PC_sEvnnQ"
   },
   "source": [
    "### Euclidian Distance\n",
    "\n",
    "Let point $p$ have Cartesian coordinates $(p_1,p_2)$ and let point $q$ have coordinates $(q_1,q_2)$. Then the distance between $p$ and $q$ is given by:\n",
    "    $d(p,q) = \\sqrt{(q_1-p_1)^2 + (q_2-p_2)^2}$.</math>"
   ]
  },
  {
   "cell_type": "code",
   "execution_count": 211,
   "metadata": {
    "id": "eWfSpbVqvnnR"
   },
   "outputs": [],
   "source": [
    "''' Euclidean distance\n",
    "Using numpy library return the Euclidean distance between two locations, where the locations are pairs of numbers (e.g., (3, 5)) '''\n",
    "\n",
    "def euclidean_distance(loc1: int, loc2: int) -> float:\n",
    "    \n",
    "    loc1 = np.array(loc1)\n",
    "    loc2 = np.array(loc2)\n",
    "    \n",
    "    return np.linalg.norm(loc1 - loc2)\n",
    "\n",
    "#     raise Exception(\"Not implemented yet\")\n",
    "    \n",
    "    # END_YOUR_CODE"
   ]
  },
  {
   "cell_type": "code",
   "execution_count": 212,
   "metadata": {
    "id": "aKXPrvGBvnnR"
   },
   "outputs": [],
   "source": [
    "def euclidean_distance_test():\n",
    "    random.seed(34)\n",
    "    for _ in range(10):\n",
    "        x1 = random.randint(0, 10)\n",
    "        x2 = random.randint(0, 10)\n",
    "        y1 = random.randint(0, 10)\n",
    "        y2 = random.randint(0, 10)\n",
    "        dist = euclidean_distance((x1, x2), (y1, y2))\n",
    "    return('Loc1 is ({0}, {1}), loc2 is ({2}, {3}). Euclidian disctance is {4}.'.format(x1, x2, y1, y2, dist))"
   ]
  },
  {
   "cell_type": "code",
   "execution_count": 213,
   "metadata": {
    "colab": {
     "base_uri": "https://localhost:8080/"
    },
    "id": "yI3g4R1hvnnR",
    "outputId": "3cc7c267-1e95-4d8c-a9b4-ee112feb311b"
   },
   "outputs": [
    {
     "name": "stdout",
     "output_type": "stream",
     "text": [
      "Loc1 is (5, 3), loc2 is (3, 7). Euclidian disctance is 4.47213595499958.\n"
     ]
    }
   ],
   "source": [
    "if __name__ == '__main__':\n",
    "    print(euclidean_distance_test())"
   ]
  },
  {
   "cell_type": "markdown",
   "metadata": {
    "id": "lTuFruDrvnnR"
   },
   "source": [
    "### String Operations"
   ]
  },
  {
   "cell_type": "code",
   "execution_count": 225,
   "metadata": {
    "id": "AGJHIeXkvnnS"
   },
   "outputs": [],
   "source": [
    "''' Alphabetically first word\n",
    "Given a string, lowecase, sort our all words in the alphabetical order and return the word that comes first.\n",
    "If the input text is an empty string, return an empty string or throw an error. '''\n",
    "\n",
    "def first_word(text: str) -> str:\n",
    "    \n",
    "    # BEGIN_YOUR_CODE\n",
    "    if text:\n",
    "    \n",
    "        word  = text.lower()\n",
    "        word  = word.split()\n",
    "    \n",
    "   # sort the list.\n",
    "    \n",
    "        word.sort()\n",
    "        return word[0]\n",
    "   \n",
    "    else :\n",
    "    \n",
    "        raise Exception(\"String Empty\")\n",
    "    \n",
    "    # END_YOUR_CODE"
   ]
  },
  {
   "cell_type": "code",
   "execution_count": 226,
   "metadata": {
    "id": "Suevhw9TvnnS"
   },
   "outputs": [],
   "source": [
    "def first_word_test():\n",
    "    result0 = first_word('This IS A teSt')\n",
    "    result1 = first_word('CSE595 Fundamentals of AI')\n",
    "    result2 = first_word('Random PArt')\n",
    "    result3 = first_word('Dog, Cat, Elephant, Wolf, Zebra')\n",
    "    return result0, result1, result2, result3"
   ]
  },
  {
   "cell_type": "code",
   "execution_count": 227,
   "metadata": {
    "colab": {
     "base_uri": "https://localhost:8080/"
    },
    "id": "DfSoFXLrvnnT",
    "outputId": "3d6d98f7-6ba5-41da-f3f1-2bfd7f048955"
   },
   "outputs": [
    {
     "name": "stdout",
     "output_type": "stream",
     "text": [
      "('a', 'ai', 'part', 'cat,')\n"
     ]
    }
   ],
   "source": [
    "if __name__ == '__main__':\n",
    "    print(first_word_test())"
   ]
  },
  {
   "cell_type": "markdown",
   "metadata": {
    "id": "zW6tTqawDOBv"
   },
   "source": [
    "## Load from Drive*\n",
    "\n",
    "*If you are using Goolge Colab, uncomment the following piece of code and verify the file using the command, if you can see your file ```museum.csv``` you are good to go."
   ]
  },
  {
   "cell_type": "code",
   "execution_count": 60,
   "metadata": {},
   "outputs": [],
   "source": [
    "# !pwd\n",
    "# !ls"
   ]
  },
  {
   "cell_type": "code",
   "execution_count": 61,
   "metadata": {
    "id": "nV7Jv5SPDGsy"
   },
   "outputs": [],
   "source": [
    "#from google.colab import drive\n",
    "#drive.mount('/content/drive')\n",
    "#%cd ..\n",
    "#%cd /content/drive/MyDrive"
   ]
  },
  {
   "cell_type": "markdown",
   "metadata": {
    "id": "zGMa8NVpvnnU"
   },
   "source": [
    "<a id='part4'></a>\n",
    "##  Part 4 - Pandas Basics [20 points]\n",
    "\n",
    "Some important resources:\n",
    "\n",
    "- [A Pandas guide](https://pandasguide.readthedocs.io/en/latest/) covers fundamental information about the package\n",
    "\n",
    "- [Pandas Cheat Sheet](https://www.datacamp.com/community/blog/python-pandas-cheat-sheet)"
   ]
  },
  {
   "cell_type": "code",
   "execution_count": 228,
   "metadata": {
    "id": "-JA6l-hpvnnU"
   },
   "outputs": [],
   "source": [
    "'''Install and import pandas library\n",
    "'''\n",
    "# BEGIN_YOUR_CODE\n",
    "\n",
    "import pandas as pd\n",
    "\n",
    "# END_YOUR_CODE"
   ]
  },
  {
   "cell_type": "code",
   "execution_count": 229,
   "metadata": {
    "colab": {
     "base_uri": "https://localhost:8080/",
     "height": 610
    },
    "id": "vNYL_RNyvnnV",
    "outputId": "dc638bb0-e611-4d0b-8d0b-03dc0d8e0906"
   },
   "outputs": [
    {
     "name": "stderr",
     "output_type": "stream",
     "text": [
      "C:\\Users\\dell\\anaconda3\\lib\\site-packages\\IPython\\core\\interactiveshell.py:3146: DtypeWarning: Columns (9,14,21) have mixed types.Specify dtype option on import or set low_memory=False.\n",
      "  has_raised = await self.run_ast_nodes(code_ast.body, cell_name,\n"
     ]
    },
    {
     "data": {
      "text/html": [
       "<div>\n",
       "<style scoped>\n",
       "    .dataframe tbody tr th:only-of-type {\n",
       "        vertical-align: middle;\n",
       "    }\n",
       "\n",
       "    .dataframe tbody tr th {\n",
       "        vertical-align: top;\n",
       "    }\n",
       "\n",
       "    .dataframe thead th {\n",
       "        text-align: right;\n",
       "    }\n",
       "</style>\n",
       "<table border=\"1\" class=\"dataframe\">\n",
       "  <thead>\n",
       "    <tr style=\"text-align: right;\">\n",
       "      <th></th>\n",
       "      <th>Museum ID</th>\n",
       "      <th>Museum Name</th>\n",
       "      <th>Legal Name</th>\n",
       "      <th>Alternate Name</th>\n",
       "      <th>Museum Type</th>\n",
       "      <th>Institution Name</th>\n",
       "      <th>Street Address (Administrative Location)</th>\n",
       "      <th>City (Administrative Location)</th>\n",
       "      <th>State (Administrative Location)</th>\n",
       "      <th>Zip Code (Administrative Location)</th>\n",
       "      <th>...</th>\n",
       "      <th>Latitude</th>\n",
       "      <th>Longitude</th>\n",
       "      <th>Locale Code (NCES)</th>\n",
       "      <th>County Code (FIPS)</th>\n",
       "      <th>State Code (FIPS)</th>\n",
       "      <th>Region Code (AAM)</th>\n",
       "      <th>Employer ID Number</th>\n",
       "      <th>Tax Period</th>\n",
       "      <th>Income</th>\n",
       "      <th>Revenue</th>\n",
       "    </tr>\n",
       "  </thead>\n",
       "  <tbody>\n",
       "    <tr>\n",
       "      <th>0</th>\n",
       "      <td>8400200098</td>\n",
       "      <td>ALASKA AVIATION HERITAGE MUSEUM</td>\n",
       "      <td>ALASKA AVIATION HERITAGE MUSEUM</td>\n",
       "      <td>NaN</td>\n",
       "      <td>HISTORY MUSEUM</td>\n",
       "      <td>NaN</td>\n",
       "      <td>4721 AIRCRAFT DR</td>\n",
       "      <td>ANCHORAGE</td>\n",
       "      <td>AK</td>\n",
       "      <td>99502</td>\n",
       "      <td>...</td>\n",
       "      <td>61.17925</td>\n",
       "      <td>-149.97254</td>\n",
       "      <td>1.0</td>\n",
       "      <td>20.0</td>\n",
       "      <td>2.0</td>\n",
       "      <td>6</td>\n",
       "      <td>920071852</td>\n",
       "      <td>201312.0</td>\n",
       "      <td>602912.0</td>\n",
       "      <td>550236.0</td>\n",
       "    </tr>\n",
       "    <tr>\n",
       "      <th>1</th>\n",
       "      <td>8400200117</td>\n",
       "      <td>ALASKA BOTANICAL GARDEN</td>\n",
       "      <td>ALASKA BOTANICAL GARDEN INC</td>\n",
       "      <td>NaN</td>\n",
       "      <td>ARBORETUM, BOTANICAL GARDEN, OR NATURE CENTER</td>\n",
       "      <td>NaN</td>\n",
       "      <td>4601 CAMPBELL AIRSTRIP RD</td>\n",
       "      <td>ANCHORAGE</td>\n",
       "      <td>AK</td>\n",
       "      <td>99507</td>\n",
       "      <td>...</td>\n",
       "      <td>61.16890</td>\n",
       "      <td>-149.76708</td>\n",
       "      <td>4.0</td>\n",
       "      <td>20.0</td>\n",
       "      <td>2.0</td>\n",
       "      <td>6</td>\n",
       "      <td>920115504</td>\n",
       "      <td>201312.0</td>\n",
       "      <td>1379576.0</td>\n",
       "      <td>1323742.0</td>\n",
       "    </tr>\n",
       "    <tr>\n",
       "      <th>2</th>\n",
       "      <td>8400200153</td>\n",
       "      <td>ALASKA CHALLENGER CENTER FOR SPACE SCIENCE TEC...</td>\n",
       "      <td>ALASKA CHALLENGER CENTER FOR SPACE SCIENCE TEC...</td>\n",
       "      <td>NaN</td>\n",
       "      <td>SCIENCE &amp; TECHNOLOGY MUSEUM OR PLANETARIUM</td>\n",
       "      <td>NaN</td>\n",
       "      <td>9711 KENAI SPUR HWY</td>\n",
       "      <td>KENAI</td>\n",
       "      <td>AK</td>\n",
       "      <td>99611</td>\n",
       "      <td>...</td>\n",
       "      <td>60.56149</td>\n",
       "      <td>-151.21598</td>\n",
       "      <td>3.0</td>\n",
       "      <td>122.0</td>\n",
       "      <td>2.0</td>\n",
       "      <td>6</td>\n",
       "      <td>921761906</td>\n",
       "      <td>201312.0</td>\n",
       "      <td>740030.0</td>\n",
       "      <td>729080.0</td>\n",
       "    </tr>\n",
       "    <tr>\n",
       "      <th>3</th>\n",
       "      <td>8400200143</td>\n",
       "      <td>ALASKA EDUCATORS HISTORICAL SOCIETY</td>\n",
       "      <td>ALASKA EDUCATORS HISTORICAL SOCIETY</td>\n",
       "      <td>NaN</td>\n",
       "      <td>HISTORIC PRESERVATION</td>\n",
       "      <td>NaN</td>\n",
       "      <td>214 BIRCH STREET</td>\n",
       "      <td>KENAI</td>\n",
       "      <td>AK</td>\n",
       "      <td>99611</td>\n",
       "      <td>...</td>\n",
       "      <td>60.56280</td>\n",
       "      <td>-151.26597</td>\n",
       "      <td>3.0</td>\n",
       "      <td>122.0</td>\n",
       "      <td>2.0</td>\n",
       "      <td>6</td>\n",
       "      <td>920165178</td>\n",
       "      <td>201412.0</td>\n",
       "      <td>0.0</td>\n",
       "      <td>0.0</td>\n",
       "    </tr>\n",
       "    <tr>\n",
       "      <th>4</th>\n",
       "      <td>8400200027</td>\n",
       "      <td>ALASKA HERITAGE MUSEUM</td>\n",
       "      <td>ALASKA AVIATION HERITAGE MUSEUM</td>\n",
       "      <td>NaN</td>\n",
       "      <td>HISTORY MUSEUM</td>\n",
       "      <td>NaN</td>\n",
       "      <td>301 W NORTHERN LIGHTS BLVD</td>\n",
       "      <td>ANCHORAGE</td>\n",
       "      <td>AK</td>\n",
       "      <td>99503</td>\n",
       "      <td>...</td>\n",
       "      <td>61.17925</td>\n",
       "      <td>-149.97254</td>\n",
       "      <td>1.0</td>\n",
       "      <td>20.0</td>\n",
       "      <td>2.0</td>\n",
       "      <td>6</td>\n",
       "      <td>920071852</td>\n",
       "      <td>201312.0</td>\n",
       "      <td>602912.0</td>\n",
       "      <td>550236.0</td>\n",
       "    </tr>\n",
       "    <tr>\n",
       "      <th>...</th>\n",
       "      <td>...</td>\n",
       "      <td>...</td>\n",
       "      <td>...</td>\n",
       "      <td>...</td>\n",
       "      <td>...</td>\n",
       "      <td>...</td>\n",
       "      <td>...</td>\n",
       "      <td>...</td>\n",
       "      <td>...</td>\n",
       "      <td>...</td>\n",
       "      <td>...</td>\n",
       "      <td>...</td>\n",
       "      <td>...</td>\n",
       "      <td>...</td>\n",
       "      <td>...</td>\n",
       "      <td>...</td>\n",
       "      <td>...</td>\n",
       "      <td>...</td>\n",
       "      <td>...</td>\n",
       "      <td>...</td>\n",
       "      <td>...</td>\n",
       "    </tr>\n",
       "    <tr>\n",
       "      <th>33067</th>\n",
       "      <td>8405600184</td>\n",
       "      <td>WYOMING STATE HISTORICAL SOCIETY</td>\n",
       "      <td>WYOMING STATE HISTORICAL SOCIETY</td>\n",
       "      <td>NaN</td>\n",
       "      <td>HISTORIC PRESERVATION</td>\n",
       "      <td>NaN</td>\n",
       "      <td>PO BOX 73</td>\n",
       "      <td>SHERIDAN</td>\n",
       "      <td>WY</td>\n",
       "      <td>82801</td>\n",
       "      <td>...</td>\n",
       "      <td>44.82345</td>\n",
       "      <td>-106.87592</td>\n",
       "      <td>4.0</td>\n",
       "      <td>33.0</td>\n",
       "      <td>56.0</td>\n",
       "      <td>5</td>\n",
       "      <td>8.36008e+08</td>\n",
       "      <td>NaN</td>\n",
       "      <td>NaN</td>\n",
       "      <td>NaN</td>\n",
       "    </tr>\n",
       "    <tr>\n",
       "      <th>33068</th>\n",
       "      <td>8405600061</td>\n",
       "      <td>WYOMING STATE MUSEUM</td>\n",
       "      <td>WYOMING STATE MUSEUM VOLUNTEERS INC</td>\n",
       "      <td>NaN</td>\n",
       "      <td>GENERAL MUSEUM</td>\n",
       "      <td>NaN</td>\n",
       "      <td>2301 CENTRAL AVENUE</td>\n",
       "      <td>CHEYENNE</td>\n",
       "      <td>WY</td>\n",
       "      <td>82001</td>\n",
       "      <td>...</td>\n",
       "      <td>41.13941</td>\n",
       "      <td>-104.81813</td>\n",
       "      <td>1.0</td>\n",
       "      <td>21.0</td>\n",
       "      <td>56.0</td>\n",
       "      <td>5</td>\n",
       "      <td>2.37369e+08</td>\n",
       "      <td>201404.0</td>\n",
       "      <td>0.0</td>\n",
       "      <td>0.0</td>\n",
       "    </tr>\n",
       "    <tr>\n",
       "      <th>33069</th>\n",
       "      <td>8405600158</td>\n",
       "      <td>WYOMING TERRITORIAL PARK HISTORIC ASSOCIATION</td>\n",
       "      <td>WYOMING TERRITORIAL PARK HISTORIC ASSOCIATION INC</td>\n",
       "      <td>NaN</td>\n",
       "      <td>HISTORIC PRESERVATION</td>\n",
       "      <td>NaN</td>\n",
       "      <td>1273 N 15TH ST STE 121</td>\n",
       "      <td>LARAMIE</td>\n",
       "      <td>WY</td>\n",
       "      <td>82072</td>\n",
       "      <td>...</td>\n",
       "      <td>41.32276</td>\n",
       "      <td>-105.57686</td>\n",
       "      <td>3.0</td>\n",
       "      <td>1.0</td>\n",
       "      <td>56.0</td>\n",
       "      <td>5</td>\n",
       "      <td>8.30318e+08</td>\n",
       "      <td>201312.0</td>\n",
       "      <td>208508.0</td>\n",
       "      <td>83981.0</td>\n",
       "    </tr>\n",
       "    <tr>\n",
       "      <th>33070</th>\n",
       "      <td>8405600137</td>\n",
       "      <td>WYOMING TRANSPORTATION MUSEUM</td>\n",
       "      <td>WYOMING TRANSPORTATION MUSEUM CORP</td>\n",
       "      <td>NaN</td>\n",
       "      <td>HISTORY MUSEUM</td>\n",
       "      <td>NaN</td>\n",
       "      <td>PO BOX 704</td>\n",
       "      <td>CHEYENNE</td>\n",
       "      <td>WY</td>\n",
       "      <td>82003</td>\n",
       "      <td>...</td>\n",
       "      <td>41.13010</td>\n",
       "      <td>-104.81916</td>\n",
       "      <td>1.0</td>\n",
       "      <td>21.0</td>\n",
       "      <td>56.0</td>\n",
       "      <td>5</td>\n",
       "      <td>8.30296e+08</td>\n",
       "      <td>201309.0</td>\n",
       "      <td>0.0</td>\n",
       "      <td>0.0</td>\n",
       "    </tr>\n",
       "    <tr>\n",
       "      <th>33071</th>\n",
       "      <td>8405600199</td>\n",
       "      <td>YELLOWSTONE NATIONAL PARK</td>\n",
       "      <td>LITTLE PEOPLE LEARNING CENTER INC</td>\n",
       "      <td>NaN</td>\n",
       "      <td>HISTORIC PRESERVATION</td>\n",
       "      <td>NaN</td>\n",
       "      <td>NATIONAL PARK SERVICE</td>\n",
       "      <td>YELLOWSTONE NATIONAL PARK</td>\n",
       "      <td>WY</td>\n",
       "      <td>82190</td>\n",
       "      <td>...</td>\n",
       "      <td>44.91303</td>\n",
       "      <td>-110.41584</td>\n",
       "      <td>4.0</td>\n",
       "      <td>29.0</td>\n",
       "      <td>56.0</td>\n",
       "      <td>5</td>\n",
       "      <td>8.30249e+08</td>\n",
       "      <td>201312.0</td>\n",
       "      <td>127496.0</td>\n",
       "      <td>126762.0</td>\n",
       "    </tr>\n",
       "  </tbody>\n",
       "</table>\n",
       "<p>33072 rows × 25 columns</p>\n",
       "</div>"
      ],
      "text/plain": [
       "        Museum ID                                        Museum Name  \\\n",
       "0      8400200098                    ALASKA AVIATION HERITAGE MUSEUM   \n",
       "1      8400200117                            ALASKA BOTANICAL GARDEN   \n",
       "2      8400200153  ALASKA CHALLENGER CENTER FOR SPACE SCIENCE TEC...   \n",
       "3      8400200143                ALASKA EDUCATORS HISTORICAL SOCIETY   \n",
       "4      8400200027                             ALASKA HERITAGE MUSEUM   \n",
       "...           ...                                                ...   \n",
       "33067  8405600184                   WYOMING STATE HISTORICAL SOCIETY   \n",
       "33068  8405600061                               WYOMING STATE MUSEUM   \n",
       "33069  8405600158      WYOMING TERRITORIAL PARK HISTORIC ASSOCIATION   \n",
       "33070  8405600137                      WYOMING TRANSPORTATION MUSEUM   \n",
       "33071  8405600199                          YELLOWSTONE NATIONAL PARK   \n",
       "\n",
       "                                              Legal Name Alternate Name  \\\n",
       "0                        ALASKA AVIATION HERITAGE MUSEUM            NaN   \n",
       "1                            ALASKA BOTANICAL GARDEN INC            NaN   \n",
       "2      ALASKA CHALLENGER CENTER FOR SPACE SCIENCE TEC...            NaN   \n",
       "3                    ALASKA EDUCATORS HISTORICAL SOCIETY            NaN   \n",
       "4                        ALASKA AVIATION HERITAGE MUSEUM            NaN   \n",
       "...                                                  ...            ...   \n",
       "33067                   WYOMING STATE HISTORICAL SOCIETY            NaN   \n",
       "33068                WYOMING STATE MUSEUM VOLUNTEERS INC            NaN   \n",
       "33069  WYOMING TERRITORIAL PARK HISTORIC ASSOCIATION INC            NaN   \n",
       "33070                 WYOMING TRANSPORTATION MUSEUM CORP            NaN   \n",
       "33071                  LITTLE PEOPLE LEARNING CENTER INC            NaN   \n",
       "\n",
       "                                         Museum Type Institution Name  \\\n",
       "0                                     HISTORY MUSEUM              NaN   \n",
       "1      ARBORETUM, BOTANICAL GARDEN, OR NATURE CENTER              NaN   \n",
       "2         SCIENCE & TECHNOLOGY MUSEUM OR PLANETARIUM              NaN   \n",
       "3                              HISTORIC PRESERVATION              NaN   \n",
       "4                                     HISTORY MUSEUM              NaN   \n",
       "...                                              ...              ...   \n",
       "33067                          HISTORIC PRESERVATION              NaN   \n",
       "33068                                 GENERAL MUSEUM              NaN   \n",
       "33069                          HISTORIC PRESERVATION              NaN   \n",
       "33070                                 HISTORY MUSEUM              NaN   \n",
       "33071                          HISTORIC PRESERVATION              NaN   \n",
       "\n",
       "      Street Address (Administrative Location) City (Administrative Location)  \\\n",
       "0                             4721 AIRCRAFT DR                      ANCHORAGE   \n",
       "1                    4601 CAMPBELL AIRSTRIP RD                      ANCHORAGE   \n",
       "2                          9711 KENAI SPUR HWY                          KENAI   \n",
       "3                             214 BIRCH STREET                          KENAI   \n",
       "4                   301 W NORTHERN LIGHTS BLVD                      ANCHORAGE   \n",
       "...                                        ...                            ...   \n",
       "33067                                PO BOX 73                       SHERIDAN   \n",
       "33068                      2301 CENTRAL AVENUE                       CHEYENNE   \n",
       "33069                   1273 N 15TH ST STE 121                        LARAMIE   \n",
       "33070                               PO BOX 704                       CHEYENNE   \n",
       "33071                    NATIONAL PARK SERVICE      YELLOWSTONE NATIONAL PARK   \n",
       "\n",
       "      State (Administrative Location) Zip Code (Administrative Location)  ...  \\\n",
       "0                                  AK                              99502  ...   \n",
       "1                                  AK                              99507  ...   \n",
       "2                                  AK                              99611  ...   \n",
       "3                                  AK                              99611  ...   \n",
       "4                                  AK                              99503  ...   \n",
       "...                               ...                                ...  ...   \n",
       "33067                              WY                              82801  ...   \n",
       "33068                              WY                              82001  ...   \n",
       "33069                              WY                              82072  ...   \n",
       "33070                              WY                              82003  ...   \n",
       "33071                              WY                              82190  ...   \n",
       "\n",
       "       Latitude  Longitude Locale Code (NCES)  County Code (FIPS)  \\\n",
       "0      61.17925 -149.97254                1.0                20.0   \n",
       "1      61.16890 -149.76708                4.0                20.0   \n",
       "2      60.56149 -151.21598                3.0               122.0   \n",
       "3      60.56280 -151.26597                3.0               122.0   \n",
       "4      61.17925 -149.97254                1.0                20.0   \n",
       "...         ...        ...                ...                 ...   \n",
       "33067  44.82345 -106.87592                4.0                33.0   \n",
       "33068  41.13941 -104.81813                1.0                21.0   \n",
       "33069  41.32276 -105.57686                3.0                 1.0   \n",
       "33070  41.13010 -104.81916                1.0                21.0   \n",
       "33071  44.91303 -110.41584                4.0                29.0   \n",
       "\n",
       "      State Code (FIPS)  Region Code (AAM)  Employer ID Number  Tax Period  \\\n",
       "0                   2.0                  6           920071852    201312.0   \n",
       "1                   2.0                  6           920115504    201312.0   \n",
       "2                   2.0                  6           921761906    201312.0   \n",
       "3                   2.0                  6           920165178    201412.0   \n",
       "4                   2.0                  6           920071852    201312.0   \n",
       "...                 ...                ...                 ...         ...   \n",
       "33067              56.0                  5         8.36008e+08         NaN   \n",
       "33068              56.0                  5         2.37369e+08    201404.0   \n",
       "33069              56.0                  5         8.30318e+08    201312.0   \n",
       "33070              56.0                  5         8.30296e+08    201309.0   \n",
       "33071              56.0                  5         8.30249e+08    201312.0   \n",
       "\n",
       "          Income    Revenue  \n",
       "0       602912.0   550236.0  \n",
       "1      1379576.0  1323742.0  \n",
       "2       740030.0   729080.0  \n",
       "3            0.0        0.0  \n",
       "4       602912.0   550236.0  \n",
       "...          ...        ...  \n",
       "33067        NaN        NaN  \n",
       "33068        0.0        0.0  \n",
       "33069   208508.0    83981.0  \n",
       "33070        0.0        0.0  \n",
       "33071   127496.0   126762.0  \n",
       "\n",
       "[33072 rows x 25 columns]"
      ]
     },
     "execution_count": 229,
     "metadata": {},
     "output_type": "execute_result"
    }
   ],
   "source": [
    "'''Read given 'DataFile' and extract into Dataframe\n",
    "'''\n",
    "\n",
    "# BEGIN_YOUR_CODE\n",
    "\n",
    "df = pd.read_csv('museums.csv')\n",
    "df\n",
    "\n",
    "# END_YOUR_CODE\n"
   ]
  },
  {
   "cell_type": "code",
   "execution_count": 230,
   "metadata": {
    "colab": {
     "base_uri": "https://localhost:8080/",
     "height": 312
    },
    "id": "nQhbLF7CvnnV",
    "outputId": "b2760574-8b6d-445d-cfe2-429e33b38825"
   },
   "outputs": [
    {
     "data": {
      "text/html": [
       "<div>\n",
       "<style scoped>\n",
       "    .dataframe tbody tr th:only-of-type {\n",
       "        vertical-align: middle;\n",
       "    }\n",
       "\n",
       "    .dataframe tbody tr th {\n",
       "        vertical-align: top;\n",
       "    }\n",
       "\n",
       "    .dataframe thead th {\n",
       "        text-align: right;\n",
       "    }\n",
       "</style>\n",
       "<table border=\"1\" class=\"dataframe\">\n",
       "  <thead>\n",
       "    <tr style=\"text-align: right;\">\n",
       "      <th></th>\n",
       "      <th>Museum ID</th>\n",
       "      <th>Zip Code (Physical Location)</th>\n",
       "      <th>Latitude</th>\n",
       "      <th>Longitude</th>\n",
       "      <th>Locale Code (NCES)</th>\n",
       "      <th>County Code (FIPS)</th>\n",
       "      <th>State Code (FIPS)</th>\n",
       "      <th>Region Code (AAM)</th>\n",
       "      <th>Tax Period</th>\n",
       "      <th>Income</th>\n",
       "      <th>Revenue</th>\n",
       "    </tr>\n",
       "  </thead>\n",
       "  <tbody>\n",
       "    <tr>\n",
       "      <th>count</th>\n",
       "      <td>3.307200e+04</td>\n",
       "      <td>9221.000000</td>\n",
       "      <td>33007.000000</td>\n",
       "      <td>33007.000000</td>\n",
       "      <td>32995.000000</td>\n",
       "      <td>30536.000000</td>\n",
       "      <td>33071.000000</td>\n",
       "      <td>33072.000000</td>\n",
       "      <td>23280.000000</td>\n",
       "      <td>2.296100e+04</td>\n",
       "      <td>2.229000e+04</td>\n",
       "    </tr>\n",
       "    <tr>\n",
       "      <th>mean</th>\n",
       "      <td>8.403812e+09</td>\n",
       "      <td>47805.644616</td>\n",
       "      <td>38.925372</td>\n",
       "      <td>-90.816757</td>\n",
       "      <td>2.505834</td>\n",
       "      <td>85.701926</td>\n",
       "      <td>29.065828</td>\n",
       "      <td>3.670083</td>\n",
       "      <td>201347.458548</td>\n",
       "      <td>1.069682e+08</td>\n",
       "      <td>2.097605e+07</td>\n",
       "    </tr>\n",
       "    <tr>\n",
       "      <th>std</th>\n",
       "      <td>2.662542e+06</td>\n",
       "      <td>30210.265032</td>\n",
       "      <td>5.126213</td>\n",
       "      <td>16.489087</td>\n",
       "      <td>1.211841</td>\n",
       "      <td>105.668318</td>\n",
       "      <td>15.431254</td>\n",
       "      <td>1.539274</td>\n",
       "      <td>67.670742</td>\n",
       "      <td>2.509287e+09</td>\n",
       "      <td>2.485197e+08</td>\n",
       "    </tr>\n",
       "    <tr>\n",
       "      <th>min</th>\n",
       "      <td>8.400100e+09</td>\n",
       "      <td>1002.000000</td>\n",
       "      <td>0.000000</td>\n",
       "      <td>-166.541260</td>\n",
       "      <td>1.000000</td>\n",
       "      <td>1.000000</td>\n",
       "      <td>1.000000</td>\n",
       "      <td>1.000000</td>\n",
       "      <td>199906.000000</td>\n",
       "      <td>-9.230000e+02</td>\n",
       "      <td>-2.127393e+06</td>\n",
       "    </tr>\n",
       "    <tr>\n",
       "      <th>25%</th>\n",
       "      <td>8.401801e+09</td>\n",
       "      <td>20180.000000</td>\n",
       "      <td>35.567720</td>\n",
       "      <td>-97.651155</td>\n",
       "      <td>1.000000</td>\n",
       "      <td>25.000000</td>\n",
       "      <td>17.000000</td>\n",
       "      <td>2.000000</td>\n",
       "      <td>201312.000000</td>\n",
       "      <td>0.000000e+00</td>\n",
       "      <td>0.000000e+00</td>\n",
       "    </tr>\n",
       "    <tr>\n",
       "      <th>50%</th>\n",
       "      <td>8.403600e+09</td>\n",
       "      <td>47448.000000</td>\n",
       "      <td>39.831640</td>\n",
       "      <td>-86.776840</td>\n",
       "      <td>2.000000</td>\n",
       "      <td>61.000000</td>\n",
       "      <td>29.000000</td>\n",
       "      <td>4.000000</td>\n",
       "      <td>201312.000000</td>\n",
       "      <td>8.781000e+03</td>\n",
       "      <td>3.307000e+03</td>\n",
       "    </tr>\n",
       "    <tr>\n",
       "      <th>75%</th>\n",
       "      <td>8.404801e+09</td>\n",
       "      <td>74743.000000</td>\n",
       "      <td>42.237490</td>\n",
       "      <td>-77.616930</td>\n",
       "      <td>4.000000</td>\n",
       "      <td>109.000000</td>\n",
       "      <td>42.000000</td>\n",
       "      <td>5.000000</td>\n",
       "      <td>201408.000000</td>\n",
       "      <td>2.163770e+05</td>\n",
       "      <td>1.676960e+05</td>\n",
       "    </tr>\n",
       "    <tr>\n",
       "      <th>max</th>\n",
       "      <td>8.409504e+09</td>\n",
       "      <td>99901.000000</td>\n",
       "      <td>70.669760</td>\n",
       "      <td>0.000000</td>\n",
       "      <td>4.000000</td>\n",
       "      <td>840.000000</td>\n",
       "      <td>90.000000</td>\n",
       "      <td>6.000000</td>\n",
       "      <td>201504.000000</td>\n",
       "      <td>8.318144e+10</td>\n",
       "      <td>5.840349e+09</td>\n",
       "    </tr>\n",
       "  </tbody>\n",
       "</table>\n",
       "</div>"
      ],
      "text/plain": [
       "          Museum ID  Zip Code (Physical Location)      Latitude     Longitude  \\\n",
       "count  3.307200e+04                   9221.000000  33007.000000  33007.000000   \n",
       "mean   8.403812e+09                  47805.644616     38.925372    -90.816757   \n",
       "std    2.662542e+06                  30210.265032      5.126213     16.489087   \n",
       "min    8.400100e+09                   1002.000000      0.000000   -166.541260   \n",
       "25%    8.401801e+09                  20180.000000     35.567720    -97.651155   \n",
       "50%    8.403600e+09                  47448.000000     39.831640    -86.776840   \n",
       "75%    8.404801e+09                  74743.000000     42.237490    -77.616930   \n",
       "max    8.409504e+09                  99901.000000     70.669760      0.000000   \n",
       "\n",
       "       Locale Code (NCES)  County Code (FIPS)  State Code (FIPS)  \\\n",
       "count        32995.000000        30536.000000       33071.000000   \n",
       "mean             2.505834           85.701926          29.065828   \n",
       "std              1.211841          105.668318          15.431254   \n",
       "min              1.000000            1.000000           1.000000   \n",
       "25%              1.000000           25.000000          17.000000   \n",
       "50%              2.000000           61.000000          29.000000   \n",
       "75%              4.000000          109.000000          42.000000   \n",
       "max              4.000000          840.000000          90.000000   \n",
       "\n",
       "       Region Code (AAM)     Tax Period        Income       Revenue  \n",
       "count       33072.000000   23280.000000  2.296100e+04  2.229000e+04  \n",
       "mean            3.670083  201347.458548  1.069682e+08  2.097605e+07  \n",
       "std             1.539274      67.670742  2.509287e+09  2.485197e+08  \n",
       "min             1.000000  199906.000000 -9.230000e+02 -2.127393e+06  \n",
       "25%             2.000000  201312.000000  0.000000e+00  0.000000e+00  \n",
       "50%             4.000000  201312.000000  8.781000e+03  3.307000e+03  \n",
       "75%             5.000000  201408.000000  2.163770e+05  1.676960e+05  \n",
       "max             6.000000  201504.000000  8.318144e+10  5.840349e+09  "
      ]
     },
     "execution_count": 230,
     "metadata": {},
     "output_type": "execute_result"
    }
   ],
   "source": [
    "'''Provide the main statistics about the entries of the dataset (mean, std, etc.)\n",
    "'''\n",
    "\n",
    "# BEGIN_YOUR_CODE\n",
    "\n",
    "df.describe()\n",
    "\n",
    "# END_YOUR_CODE"
   ]
  },
  {
   "cell_type": "code",
   "execution_count": 231,
   "metadata": {
    "colab": {
     "base_uri": "https://localhost:8080/"
    },
    "id": "JnuZGhGwvnnW",
    "outputId": "632299d2-4913-40af-95f4-82ba06f9a477"
   },
   "outputs": [
    {
     "data": {
      "text/plain": [
       "(33072, 25)"
      ]
     },
     "execution_count": 231,
     "metadata": {},
     "output_type": "execute_result"
    }
   ],
   "source": [
    "''' Print shape of the dataset '''\n",
    "\n",
    "# BEGIN_YOUR_CODE\n",
    "df.shape\n",
    "# END_YOUR_CODE"
   ]
  },
  {
   "cell_type": "code",
   "execution_count": 232,
   "metadata": {
    "colab": {
     "base_uri": "https://localhost:8080/"
    },
    "id": "nFWD5zl8vnne",
    "outputId": "6e1ba9b2-534f-4273-d015-b08128a3b9fe"
   },
   "outputs": [
    {
     "data": {
      "text/plain": [
       "Index(['Museum ID', 'Museum Name', 'Legal Name', 'Alternate Name',\n",
       "       'Museum Type', 'Institution Name',\n",
       "       'Street Address (Administrative Location)',\n",
       "       'City (Administrative Location)', 'State (Administrative Location)',\n",
       "       'Zip Code (Administrative Location)',\n",
       "       'Street Address (Physical Location)', 'City (Physical Location)',\n",
       "       'State (Physical Location)', 'Zip Code (Physical Location)',\n",
       "       'Phone Number', 'Latitude', 'Longitude', 'Locale Code (NCES)',\n",
       "       'County Code (FIPS)', 'State Code (FIPS)', 'Region Code (AAM)',\n",
       "       'Employer ID Number', 'Tax Period', 'Income', 'Revenue'],\n",
       "      dtype='object')"
      ]
     },
     "execution_count": 232,
     "metadata": {},
     "output_type": "execute_result"
    }
   ],
   "source": [
    "''' Return all the colums names'''\n",
    "\n",
    "# BEGIN_YOUR_CODE\n",
    "df.columns\n",
    "# END_YOUR_CODE"
   ]
  },
  {
   "cell_type": "code",
   "execution_count": 233,
   "metadata": {
    "colab": {
     "base_uri": "https://localhost:8080/"
    },
    "id": "6-1Dj0sGvnng",
    "outputId": "5fd43650-6e73-45a2-9161-77684330f89f"
   },
   "outputs": [
    {
     "data": {
      "text/plain": [
       "array(['HISTORY MUSEUM', 'ARBORETUM, BOTANICAL GARDEN, OR NATURE CENTER',\n",
       "       'SCIENCE & TECHNOLOGY MUSEUM OR PLANETARIUM',\n",
       "       'HISTORIC PRESERVATION', 'GENERAL MUSEUM',\n",
       "       'ZOO, AQUARIUM, OR WILDLIFE CONSERVATION', 'ART MUSEUM',\n",
       "       \"CHILDREN'S MUSEUM\", 'NATURAL HISTORY MUSEUM'], dtype=object)"
      ]
     },
     "execution_count": 233,
     "metadata": {},
     "output_type": "execute_result"
    }
   ],
   "source": [
    "''' Print a list of museums types '''\n",
    "\n",
    "# BEGIN_YOUR_CODE\n",
    "df[\"Museum Type\"].unique()\n",
    "# END_YOUR_CODE"
   ]
  },
  {
   "cell_type": "code",
   "execution_count": 234,
   "metadata": {
    "colab": {
     "base_uri": "https://localhost:8080/"
    },
    "id": "wUSzjQC3vnng",
    "outputId": "fcc6bb9b-01e8-4d31-8580-c621cb1bcc36"
   },
   "outputs": [
    {
     "data": {
      "text/plain": [
       "RangeIndex(start=0, stop=33072, step=1)"
      ]
     },
     "execution_count": 234,
     "metadata": {},
     "output_type": "execute_result"
    }
   ],
   "source": [
    "''' Return insight about index(columns) of museum.csv '''\n",
    "\n",
    "# BEGIN_YOUR_CODE\n",
    "df.index\n",
    "# END_YOUR_CODE"
   ]
  },
  {
   "cell_type": "markdown",
   "metadata": {
    "id": "YNq5ppEGvnnh"
   },
   "source": [
    "<a id='part5'></a>\n",
    "## Matplotlib Basics [20 points]"
   ]
  },
  {
   "cell_type": "markdown",
   "metadata": {
    "id": "MyidlhZlIPa2"
   },
   "source": [
    "Heatmaps are a useful plot tool which help us visualize the data density or distribution. Refer the below documentation for more details on heatmap.\n",
    "\n",
    "[Matplotlib tutorial](https://machinelearningknowledge.ai/matplotlib-heatmap-complete-tutorial-for-beginners/)\n",
    "\n",
    "**Note:** You can only use matplotlib library for the following tasks"
   ]
  },
  {
   "cell_type": "code",
   "execution_count": 250,
   "metadata": {
    "id": "bfFqEdGEvnnh"
   },
   "outputs": [],
   "source": [
    "'''Install and import matplotlib library\n",
    "'''\n",
    "\n",
    "# BEGIN_YOUR_CODE \n",
    "\n",
    "import matplotlib.pyplot as plt\n",
    "%matplotlib inline\n",
    "# END_YOUR_CODE"
   ]
  },
  {
   "cell_type": "code",
   "execution_count": 251,
   "metadata": {
    "colab": {
     "base_uri": "https://localhost:8080/",
     "height": 282
    },
    "id": "25-jR3OHstb_",
    "outputId": "39eaa5da-3359-4016-9202-41a575d92e37"
   },
   "outputs": [
    {
     "data": {
      "image/png": "[encoded data removed]",
      "text/plain": [
       "<Figure size 432x288 with 1 Axes>"
      ]
     },
     "metadata": {
      "needs_background": "light"
     },
     "output_type": "display_data"
    }
   ],
   "source": [
    "''' Heatmap\n",
    "Take any random numpy array of dimension 10x15 and plot a heatmap\n",
    "'''\n",
    "\n",
    "# BEGIN YOUR CODE\n",
    "\n",
    "array_rand = np.random.rand(10,15)\n",
    "array_rand\n",
    "plt.imshow(array_rand, cmap='hot')\n",
    "plt.show()\n",
    "\n",
    "# END YOUR CODE"
   ]
  },
  {
   "cell_type": "code",
   "execution_count": 252,
   "metadata": {
    "colab": {
     "base_uri": "https://localhost:8080/",
     "height": 265
    },
    "id": "VD6WIdUU4-PA",
    "outputId": "26c87f7b-3c6d-4d3c-a218-6b34d1fe0f53"
   },
   "outputs": [
    {
     "data": {
      "image/png": "[encoded data removed]",
      "text/plain": [
       "<Figure size 432x288 with 1 Axes>"
      ]
     },
     "metadata": {
      "needs_background": "light"
     },
     "output_type": "display_data"
    }
   ],
   "source": [
    "'''For the given value x plot the function y = x^2 using list comprehension on y.\n",
    "You can check https://docs.python.org/3/tutorial/datastructures.html#list-comprehensions to learn how to use list comprehension\n",
    "'''\n",
    "\n",
    "x = range(15)\n",
    "\n",
    "# BEGIN YOUR CODE\n",
    "\n",
    "# y = []\n",
    "# for i in range(15):\n",
    "#      y.append(i**2)\n",
    "# print(y)\n",
    "\n",
    "y = [x**2 for x in range(15)]\n",
    "y\n",
    "plt.xlabel('X axis')\n",
    "plt.ylabel('Y axis')\n",
    "plt.plot(x, y);\n",
    "\n",
    "\n",
    "\n",
    "\n",
    "# END YOUR CODE"
   ]
  },
  {
   "cell_type": "code",
   "execution_count": 253,
   "metadata": {
    "colab": {
     "base_uri": "https://localhost:8080/",
     "height": 268
    },
    "id": "GB4uqfd8K495",
    "outputId": "7b073e40-da0a-4654-ecc4-031252f8df69"
   },
   "outputs": [
    {
     "data": {
      "image/png": "[encoded data removed]",
      "text/plain": [
       "<Figure size 432x288 with 1 Axes>"
      ]
     },
     "metadata": {
      "needs_background": "light"
     },
     "output_type": "display_data"
    }
   ],
   "source": [
    "'''For the given value x plot the function y = x^3 using lambda function y.\n",
    "\n",
    "Lambda function is a small anonymous function which consist of a single expression, and is usually used when we need the function for a smaller duration\n",
    "https://realpython.com/python-lambda/\n",
    "'''\n",
    "\n",
    "x = range(15)\n",
    "\n",
    "# BEGIN YOUR CODE\n",
    "\n",
    "y = list(map(lambda x: x**2, range(15)))\n",
    "y\n",
    "\n",
    "plt.xlabel('X axis')\n",
    "plt.ylabel('Y axis')\n",
    "plt.plot(x, y);\n",
    "\n",
    "# END YOUR CODE\n"
   ]
  },
  {
   "cell_type": "code",
   "execution_count": 254,
   "metadata": {},
   "outputs": [
    {
     "data": {
      "image/png": "[encoded data removed]",
      "text/plain": [
       "<Figure size 432x288 with 1 Axes>"
      ]
     },
     "metadata": {
      "needs_background": "light"
     },
     "output_type": "display_data"
    }
   ],
   "source": [
    "'''On one graph draw two lines:\n",
    "1) Plot the function y = x^3 using lambda function y (use your code from above)\n",
    "2) A scatter plot for y = x^4 using either list comprehension or lambda function for evaluating y\n",
    "'''\n",
    "\n",
    "x = range(15)\n",
    "\n",
    "# BEGIN YOUR CODE\n",
    "\n",
    "y = list(map(lambda x: x**3, range(15)))\n",
    "\n",
    "y2 = list(map(lambda x: x**4, range(15)))\n",
    "\n",
    "plt.plot(x, y, label = \"x^3\");\n",
    "\n",
    "plt.scatter(x, y2, label = \" x^4\", color='red')\n",
    "\n",
    "plt.xlabel('X axis')\n",
    "plt.ylabel('Y axis')\n",
    "plt.legend()\n",
    "plt.show()\n",
    "\n",
    "# END YOUR CODE"
   ]
  },
  {
   "cell_type": "code",
   "execution_count": 255,
   "metadata": {
    "colab": {
     "base_uri": "https://localhost:8080/",
     "height": 265
    },
    "id": "AEbDCKYH7UfV",
    "outputId": "91484bff-8e4d-4901-e799-b38f48d5fadd"
   },
   "outputs": [
    {
     "data": {
      "image/png": "[encoded data removed]",
      "text/plain": [
       "<Figure size 432x288 with 2 Axes>"
      ]
     },
     "metadata": {
      "needs_background": "light"
     },
     "output_type": "display_data"
    }
   ],
   "source": [
    "'''Create subplots showing graphs of cos and sin side by side of each other\n",
    "the value of theta ranges from -15 to 15\n",
    "\n",
    "HINT: You might want to utilize np.linespace() or np.arrange() to create smooth curves\n",
    "'''\n",
    "\n",
    "import math\n",
    "\n",
    "# BEGIN YOUR CODE\n",
    "\n",
    "x =  np.arange(-15, 15)\n",
    "sin = np.sin(x)\n",
    "cos = np.cos(x)\n",
    "\n",
    "plt.subplot(1, 2, 1)\n",
    "plt.plot(x,sin, label = \"sin function\")\n",
    "plt.title('sin function')\n",
    "plt.subplot(1, 2, 2)\n",
    "plt.plot(x,cos, label = \"cos function\" , c = 'red')\n",
    "plt.title('cos function')\n",
    "plt.show()\n",
    "\n",
    "# END YOUR CODE"
   ]
  },
  {
   "cell_type": "code",
   "execution_count": 260,
   "metadata": {},
   "outputs": [
    {
     "data": {
      "image/png": "[encoded data removed]",
      "text/plain": [
       "<Figure size 2520x720 with 1 Axes>"
      ]
     },
     "metadata": {},
     "output_type": "display_data"
    }
   ],
   "source": [
    "''' Museum (\"museum.csv\"): total number of museums per type\n",
    "\n",
    "Plot a bar graph which shows the total number of museums in USA corresponding to the museum type\n",
    "'''\n",
    "\n",
    "# BEGIN YOUR CODE\n",
    "\n",
    "import seaborn as sns\n",
    "\n",
    "ax = sns.countplot(x=\"Museum Type\", data=df)\n",
    "sns.set(rc={'figure.figsize':(35,10)})\n",
    "\n",
    "\n",
    "# END YOUR CODE"
   ]
  },
  {
   "cell_type": "code",
   "execution_count": 258,
   "metadata": {
    "colab": {
     "base_uri": "https://localhost:8080/",
     "height": 264
    },
    "id": "yENY45pIs_S9",
    "outputId": "5c7a6231-46fa-4d86-8e8d-a5e1b09fd8bf"
   },
   "outputs": [
    {
     "data": {
      "image/png": "[encoded data removed]",
      "text/plain": [
       "<Figure size 1440x576 with 1 Axes>"
      ]
     },
     "metadata": {},
     "output_type": "display_data"
    }
   ],
   "source": [
    "''' Museum (\"museum.csv\"): total number of museums per state\n",
    "\n",
    "Plot a graph which shows the total number of museums per each state (\"State (Physical Location)\")\n",
    "'''\n",
    "\n",
    "# BEGIN YOUR CODE\n",
    "\n",
    "ax = sns.countplot(x=\"State (Administrative Location)\", data=df)\n",
    "sns.set(rc={'figure.figsize':(20,8)})\n",
    "\n",
    "# END YOUR CODE"
   ]
  },
  {
   "cell_type": "markdown",
   "metadata": {
    "id": "Oo6h1NH6R6Pq"
   },
   "source": [
    "#### Results analyzing\n",
    "\n",
    "Analyze the graph and answer the following two questions:\n",
    "\n",
    "**1) What is your inference from the above graph?**\n",
    "\n",
    "*YOUR ANSWER:* Most of the Museums in USA are \"HISTORIC PRESERVATION\" museums whereas 'NATURAL HISTORY' are least.\n",
    "              \n",
    "               California state has the most museums and Delaware state has least museums.\n",
    "                \n",
    "              \n",
    "\n",
    "**2) Which state has 5th most number of museum?**\n",
    "\n",
    "*YOUR ANSWER:* Ohio\n"
   ]
  },
  {
   "cell_type": "markdown",
   "metadata": {
    "id": "toxZCPhevnni"
   },
   "source": [
    "## References Used\n",
    "\n",
    "**List below all the references you used to complete the assignment**"
   ]
  },
  {
   "cell_type": "code",
   "execution_count": 243,
   "metadata": {
    "id": "YW_6TvjFrilZ"
   },
   "outputs": [],
   "source": [
    "#https://numpy.org/doc/stable/index.html"
   ]
  },
  {
   "cell_type": "code",
   "execution_count": null,
   "metadata": {},
   "outputs": [],
   "source": [
    "#https://matplotlib.org/"
   ]
  },
  {
   "cell_type": "code",
   "execution_count": null,
   "metadata": {},
   "outputs": [],
   "source": [
    "#https://seaborn.pydata.org/generated/seaborn.countplot.html"
   ]
  },
  {
   "cell_type": "code",
   "execution_count": null,
   "metadata": {},
   "outputs": [],
   "source": []
  },
  {
   "cell_type": "code",
   "execution_count": null,
   "metadata": {},
   "outputs": [],
   "source": []
  }
 ],
 "metadata": {
  "celltoolbar": "Raw Cell Format",
  "colab": {
   "collapsed_sections": [
    "uiyFNoJivnnQ",
    "bE9PC_sEvnnQ",
    "lTuFruDrvnnR",
    "zGMa8NVpvnnU",
    "toxZCPhevnni"
   ],
   "name": "fall21_eas595_Assignmnet1[INTERNAL].ipynb",
   "provenance": []
  },
  "kernelspec": {
   "display_name": "Python 3",
   "language": "python",
   "name": "python3"
  },
  "language_info": {
   "codemirror_mode": {
    "name": "ipython",
    "version": 3
   },
   "file_extension": ".py",
   "mimetype": "text/x-python",
   "name": "python",
   "nbconvert_exporter": "python",
   "pygments_lexer": "ipython3",
   "version": "3.8.5"
  }
 },
 "nbformat": 4,
 "nbformat_minor": 4
}
