{
 "cells": [
  {
   "cell_type": "markdown",
   "metadata": {
    "id": "KH1K6cXFvnmj"
   },
   "source": [
    "<div align=\"center\"> <h3><font color='blue'>EAS 595 -- Fundamentals of AI, Fall 2021 </font> \n",
    "<h1> Assignment 1 - Python Intro \n",
    "\n",
    "<h3><font color='red'>Checkpoint:</font> September 12, 2021, 11:59pm \n",
    "<h2><font color='red'>Due Date: </font> September 26, 2021, 11:59pm</div>\n",
    "\n",
    "Welcome to your first EAS 595 assignment! The goal of this assignment is to sharpen your programming skills needed for this class. It is focused on familiarizing yourself with Python and main data science libraries that will be used for other assignment as well.\n",
    "\n",
    "There are a total of five parts. We will focus on basic Python functions, explore numpy, pandas and matplotlib libraries and analyze the real-world dataset.\n",
    "\n",
    "If you are new to Python, check our [Python resources page](https://ubuffalo-my.sharepoint.com/:w:/g/personal/avereshc_buffalo_edu/ESoUg6v6aoJImaeWXy90SqMBiubxGGAkG7dhaNyhuBum_w?e=3Tlwbz) and our class demos.\n",
    "\n",
    "\n",
    "### Submission\n",
    "\n",
    "All the details you need for this assignment are located within this notebook. You are expected to follow every block and complete the task within the marks ``` # BEGIN_YOUR_CODE ``` and ```# END_YOUR_CODE```. Do not modify or edit code beyond these lines. You can add helper functions in the new cells, if needed. We recommend completing the task within this .ipynb notebook, if needed you can convert it and submit as .py script. Try to make your code as clean and simple as possible and be sure to write your answers between the begin answer and end answer comments.\n",
    "\n",
    "1. Submit at **UBLearns > Assignments**\n",
    "2. The code of your implementations should be written in Python\n",
    "3. All project files should be packed in a ZIP file named YOUR_FIRST_NAME_YOUR_LAST_NAME_assignment1.zip (e.g. alina_vereshchaka_assignment1.zip).\n",
    "4. Your Jupyter notebook should be saved with the results. If you are submitting python scripts, after extracting the ZIP file and executing command python main.py in the first level directory, all the generated results and plots you used in your report should appear printed out in a clear manner.  \n",
    "6. Include all the references that have been used to complete the assignment.\n",
    "\n",
    "\n",
    "**Assignment Outline**\n",
    "\n",
    "| Part | Description | # of tasks | Points |\n",
    "| --- | --- | --- | --- |\n",
    "| [Part 1](#part1) | Basics | 8 | 20 |\n",
    "| [Part 2](#part2) | Numpy Basics | 9 | 20 |\n",
    "| [Part 3](#part3) | Algorithms | 2 | 20 |\n",
    "| [Part 4](#part4) | Pandas Basics | 7 | 20 |\n",
    "| [Part 5](#part5) | Matplotlib Basics | 8 | 20 |\n",
    "\n",
    "    \n",
    "### Important Information\n",
    "\n",
    "This assignment must be done individually. The standing policy of the Department is that all students involved in an academic integrity violation (e.g. plagiarism in any way, shape, or form) will receive an F grade for the course. Refer to the [Office of Academic Integrity](https://www.buffalo.edu/academic-integrity.html) for more details.\n",
    "\n",
    "\n",
    "### FAQ\n",
    ">What does 'raise Exception(\"Not implemented yet\")' mean?\n",
    "\n",
    "Here we define a custom exception to highlight that the task is not implemented yet. Once you implement your code, ensure to remove this part.\n",
    "\n",
    ">Can I add code beyond # BEGIN_YOUR_CODE parts.\n",
    "\n",
    "Yes, you can add helper functions. Add them in the separate cell with the comments, why you need it\n"
   ]
  },
  {
   "cell_type": "markdown",
   "metadata": {
    "id": "RiMGYifjvnmy"
   },
   "source": [
    "<a id='part1'></a>\n",
    "## Part 1 - Pyhton Basics [20 points]"
   ]
  },
  {
   "cell_type": "markdown",
   "metadata": {
    "id": "2LUCpwD6vnm1"
   },
   "source": [
    "The first part of this assignment gives you practice with python syntax. Follow the cells below for the instructions."
   ]
  },
  {
   "cell_type": "code",
   "execution_count": 8,
   "metadata": {
    "colab": {
     "base_uri": "https://localhost:8080/"
    },
    "id": "pYW7jZF2vnm2",
    "outputId": "353842fc-3622-46f3-a307-132850f3dab9"
   },
   "outputs": [
    {
     "name": "stdout",
     "output_type": "stream",
     "text": [
      "Hello Hello Hello Hello Hello Hello Hello Hello Hello Hello Hello Hello Hello Hello Hello Hello Hello Hello Hello Hello Hello Hello Hello Hello Hello Hello Hello Hello Hello Hello Hello Hello Hello Hello Hello Hello Hello Hello Hello Hello Hello Hello Hello Hello Hello Hello Hello Hello Hello Hello Hello Hello Hello Hello Hello Hello Hello Hello Hello Hello Hello Hello Hello Hello Hello Hello Hello Hello Hello Hello Hello Hello Hello Hello Hello Hello Hello Hello Hello Hello Hello Hello Hello Hello Hello Hello Hello Hello Hello Hello Hello Hello Hello Hello Hello Hello Hello Hello Hello Hello \n"
     ]
    }
   ],
   "source": [
    "''' Hello\n",
    "Print a word \"Hello \" 100 times\n",
    "'''\n",
    "\n",
    "# BEGIN_YOUR_CODE\n",
    "print(\"Hello \" * 100)\n",
    "# END_YOUR_CODE"
   ]
  },
  {
   "cell_type": "code",
   "execution_count": 9,
   "metadata": {},
   "outputs": [
    {
     "name": "stdout",
     "output_type": "stream",
     "text": [
      "Hello World\n"
     ]
    }
   ],
   "source": [
    "''' Hello World\n",
    "Using two variables hello and world defined below return 'Hello World'. \n",
    "'''\n",
    "\n",
    "hello  = 'hello'\n",
    "world = 'world'\n",
    "\n",
    "# BEGIN_YOUR_CODE\n",
    "# def hello_world():\n",
    "    \n",
    "#     return hello.capitalize() +\" \"+world.capitalize()\n",
    "# hello_world()\n",
    "\n",
    "print(hello.capitalize()+ \" \" + world.capitalize())\n",
    "# END_YOUR_CODE"
   ]
  },
  {
   "cell_type": "code",
   "execution_count": 10,
   "metadata": {},
   "outputs": [
    {
     "data": {
      "text/plain": [
       "[0, 1, 2, 3, 4, 5]"
      ]
     },
     "execution_count": 10,
     "metadata": {},
     "output_type": "execute_result"
    }
   ],
   "source": [
    "''' Updating elements\n",
    "Given a string my_list, update the fourth element to '3', so the output is as follows: [0, 1, 2, 3, 4, 5]\n",
    "'''\n",
    "\n",
    "my_list = [0, 1, 2, 'three', 4, 5]\n",
    "\n",
    "# BEGIN_YOUR_CODE\n",
    "my_list[3] = 3\n",
    "my_list\n",
    "# END_YOUR_CODE"
   ]
  },
  {
   "cell_type": "code",
   "execution_count": 11,
   "metadata": {
    "colab": {
     "base_uri": "https://localhost:8080/"
    },
    "id": "eQ7SJvrLvnm5",
    "outputId": "826dcd4e-03ea-4491-fa66-4bbd4123e4ba"
   },
   "outputs": [
    {
     "data": {
      "text/plain": [
       "['rabbit', 'dog', 'elephant', 'cat']"
      ]
     },
     "execution_count": 11,
     "metadata": {},
     "output_type": "execute_result"
    }
   ],
   "source": [
    "''' Reversing\n",
    "Reverse the order of elements in a list given below, so the output is as follows: ['rabbit', 'dog', 'elephant', 'cat']\n",
    "'''\n",
    "\n",
    "list1 = [\"cat\", \"elephant\", \"dog\", \"rabbit\"]\n",
    "\n",
    "# BEGIN_YOUR_CODE\n",
    "list1.reverse()\n",
    "list1\n",
    "\n",
    "#list1[::-1]\n",
    "\n",
    "# END_YOUR_CODE"
   ]
  },
  {
   "cell_type": "code",
   "execution_count": 12,
   "metadata": {
    "colab": {
     "base_uri": "https://localhost:8080/"
    },
    "id": "G472Jj3gvnm6",
    "outputId": "4c979e16-2581-4332-8c33-813f04f45352"
   },
   "outputs": [
    {
     "data": {
      "text/plain": [
       "'abcde'"
      ]
     },
     "execution_count": 12,
     "metadata": {},
     "output_type": "execute_result"
    }
   ],
   "source": [
    "'''Concatenating strings\n",
    "Concatenate strings in a list below, so the output is as follows: \"abcde\" ####HERE\n",
    "'''\n",
    "\n",
    "list2 = ['a', 'b', 'c', 'd', 'e']\n",
    "\n",
    "# BEGIN_YOUR_CODE\n",
    "\"\".join(list2)\n",
    "# END_YOUR_CODE"
   ]
  },
  {
   "cell_type": "code",
   "execution_count": 13,
   "metadata": {
    "colab": {
     "base_uri": "https://localhost:8080/"
    },
    "id": "vsIKrnuFvnm7",
    "outputId": "1aac4459-3c65-4312-bbc3-698b616f8bf5"
   },
   "outputs": [
    {
     "name": "stdout",
     "output_type": "stream",
     "text": [
      "#1: Yann LeCun\n",
      "#2: Yoshua Bengio\n",
      "#3: Geoffrey Hinton\n",
      "#4: Fei-Fei Li\n",
      "#5: Andrew Ng\n"
     ]
    }
   ],
   "source": [
    "'''Numbering a list\n",
    "Print a numbered list of the famous AI researchers using \"enumerate()\" function\n",
    "'''\n",
    "\n",
    "researchers = ['Yann LeCun', 'Yoshua Bengio', 'Geoffrey Hinton', 'Fei-Fei Li', 'Andrew Ng']\n",
    "\n",
    "# BEGIN_YOUR_CODE\n",
    "for id, researchers in enumerate(researchers):\n",
    "    print('#{}: {}'.format(id + 1, researchers))\n",
    "# END_YOUR_CODE"
   ]
  },
  {
   "cell_type": "code",
   "execution_count": 14,
   "metadata": {
    "colab": {
     "base_uri": "https://localhost:8080/"
    },
    "id": "Izsh0n6Hvnm8",
    "outputId": "db845742-d150-411b-bdbb-6cbc5f461fd6"
   },
   "outputs": [
    {
     "name": "stdout",
     "output_type": "stream",
     "text": [
      "[('Yann LeCun', 'Facebook'), ('Yoshua Bengio', 'Université de Montréal'), ('Geoffrey Hinton', 'University of Toronto'), ('Fei-Fei Li', 'Stanford University'), ('Andrew Ng', 'Landing AI')]\n"
     ]
    }
   ],
   "source": [
    "'''Combining lists\n",
    "Combine two lists given below using zip() fucntion and print out the result'''\n",
    "\n",
    "researchers = ['Yann LeCun', 'Yoshua Bengio', 'Geoffrey Hinton', 'Fei-Fei Li', 'Andrew Ng']\n",
    "work = ['Facebook', 'Université de Montréal', 'University of Toronto', 'Stanford University', 'Landing AI']\n",
    "\n",
    "# BEGIN_YOUR_CODE\n",
    "zipped = zip(researchers, work)\n",
    "\n",
    "zipped_list = list(zipped)\n",
    "\n",
    "print(zipped_list)\n",
    "\n",
    "# END_YOUR_CODE"
   ]
  },
  {
   "cell_type": "code",
   "execution_count": 15,
   "metadata": {
    "id": "tM242AlVvnm9"
   },
   "outputs": [],
   "source": [
    "''' Sum function\n",
    "Modify the function below to return a sum of a and b '''\n",
    "\n",
    "def add(a: int, b: int) -> int:\n",
    "    \n",
    "    # BEGIN_YOUR_CODE\n",
    "    return a+b\n",
    "#     raise Exception(\"Not implemented yet\")\n",
    "\n",
    "    # END_YOUR_CODE"
   ]
  },
  {
   "cell_type": "markdown",
   "metadata": {
    "id": "o4HwFdtlvnm_"
   },
   "source": [
    "We defined ```add_test``` to test your ```add``` function. For this function we ```import random``` library. This is a very commonly used package that helps to generate random values. For example:\n",
    "\n",
    "``` python\n",
    "random.randint(0, 100) #Returns any random integer from 0 to 100\n",
    "```"
   ]
  },
  {
   "cell_type": "code",
   "execution_count": 16,
   "metadata": {
    "id": "TfVs9QUIvnnA"
   },
   "outputs": [],
   "source": [
    "import random\n",
    "\n",
    "def add_test():\n",
    "    a = random.randint(0, 9)\n",
    "    b = random.randint(0, 9)\n",
    "    result = add(a, b)\n",
    "\n",
    "    return('Value of a is {0}, value of b is {1}, and their sum is {2}.'.format(a, b, result))"
   ]
  },
  {
   "cell_type": "code",
   "execution_count": 17,
   "metadata": {
    "colab": {
     "base_uri": "https://localhost:8080/"
    },
    "id": "cOLrlf2GvnnB",
    "outputId": "a02426b5-11ff-46f3-daa9-8026dd110f2d"
   },
   "outputs": [
    {
     "name": "stdout",
     "output_type": "stream",
     "text": [
      "Value of a is 3, value of b is 2, and their sum is 5.\n"
     ]
    }
   ],
   "source": [
    "# Here we call our function 'add_test' to test your add function with random values\n",
    "if __name__ == '__main__':\n",
    "    print(add_test())"
   ]
  },
  {
   "cell_type": "markdown",
   "metadata": {
    "id": "12yDhDMxvnnB"
   },
   "source": [
    "<a id='part2'></a>\n",
    "## Part 2 - Numpy Basics [20 points]"
   ]
  },
  {
   "cell_type": "markdown",
   "metadata": {
    "id": "-JmI82NyvnnC"
   },
   "source": [
    "In this section we will explore one of the most commonly used package - Numpy. You can refer to the [Official NumPy Guide](https://numpy.org/doc/stable/)."
   ]
  },
  {
   "cell_type": "code",
   "execution_count": null,
   "metadata": {
    "id": "CstiC-8CvnnC"
   },
   "outputs": [],
   "source": [
    "'''Import the numpy package\n",
    "'''\n",
    "\n",
    "# BEGIN_YOUR_CODE\n",
    "\n",
    "# END_YOUR_CODE"
   ]
  },
  {
   "cell_type": "code",
   "execution_count": null,
   "metadata": {
    "colab": {
     "base_uri": "https://localhost:8080/"
    },
    "id": "2Cdaj9aTvnnE",
    "outputId": "2c7e7f65-9309-40bb-97db-c3372c80f247"
   },
   "outputs": [],
   "source": [
    "''' Random integers\n",
    "Create an array of random integers from 0 to 50 with the length 10 using numpy random generator\n",
    "'''\n",
    "\n",
    "# BEGIN_YOUR_CODE\n",
    "array = \n",
    "# END_YOUR_CODE\n",
    "\n",
    "print(array)"
   ]
  },
  {
   "cell_type": "code",
   "execution_count": null,
   "metadata": {
    "colab": {
     "base_uri": "https://localhost:8080/"
    },
    "id": "D_NEdSyVvnnF",
    "outputId": "5fcabe8d-b205-43a1-8300-43d9f0c0911e"
   },
   "outputs": [],
   "source": [
    "''' Slicing\n",
    "Slice the above array and extract the first 2 elements, the last two elements, and all elements that are left in the middle.\n",
    "'''\n",
    "\n",
    "# BEGIN_YOUR_CODE\n",
    "first_two = \n",
    "last_two = \n",
    "middle = \n",
    "# END_YOUR_CODE\n",
    "\n",
    "print('The first 2 elements are {0} \\nThe last two elements are {1} \\nElements in the middle are {2}.'.format(first_two, last_two, middle))"
   ]
  },
  {
   "cell_type": "code",
   "execution_count": null,
   "metadata": {
    "colab": {
     "base_uri": "https://localhost:8080/"
    },
    "id": "x39Fry3OvnnF",
    "outputId": "e84ec16d-d351-4405-d0e5-e84d5477aefb"
   },
   "outputs": [],
   "source": [
    "'''Changing dimensions\n",
    "Convert your 1D array defined above to a 2D matrix and print its shape. The final output dimension should be 5x2.\n",
    "'''\n",
    "\n",
    "# BEGIN_YOUR_CODE\n",
    "\n",
    "# END_YOUR_CODE"
   ]
  },
  {
   "cell_type": "code",
   "execution_count": null,
   "metadata": {
    "colab": {
     "base_uri": "https://localhost:8080/"
    },
    "id": "GTPk6XwivnnG",
    "outputId": "c5273563-fcb2-4bda-8067-341aff65524a"
   },
   "outputs": [],
   "source": [
    "'''Changing dimensions\n",
    "Convert a matrix below to 1D array and print its dimension\n",
    "'''\n",
    "\n",
    "A = np.array([[1,2], [3,4], [5,6]])\n",
    "\n",
    "# BEGIN_YOUR_CODE\n",
    "\n",
    "# END_YOUR_CODE"
   ]
  },
  {
   "cell_type": "code",
   "execution_count": null,
   "metadata": {
    "colab": {
     "base_uri": "https://localhost:8080/"
    },
    "id": "ALyMwuojvnnM",
    "outputId": "8e914965-f014-479a-843c-1407a63dd7f0"
   },
   "outputs": [],
   "source": [
    "''' Matrices\n",
    "Create two matrices A and B of size 5X6 and 6X5 respectively with random values from 0 to 1, and perform the dot product on them\n",
    "'''\n",
    "\n",
    "# BEGIN_YOUR_CODE\n",
    "A = \n",
    "B = \n",
    "dot_product = \n",
    "# END_YOUR_CODE\n",
    "\n",
    "print('\\nMatrix A is \\n{0} \\nMatrix B is \\n{1}, \\nTheir product is \\n{2}'.format(A, B, dot_product))"
   ]
  },
  {
   "cell_type": "code",
   "execution_count": null,
   "metadata": {
    "colab": {
     "base_uri": "https://localhost:8080/"
    },
    "id": "cf2kSBLXvnnN",
    "outputId": "ed32eeca-dac9-4632-e946-149e1ad60923"
   },
   "outputs": [],
   "source": [
    "''' Maximum value\n",
    "Return the maximum value present in each row of Matrix A created in the previous question. \n",
    "Result should come in the form: [row1_max row2_max row3_max row4_max row5_max]\n",
    "'''\n",
    "\n",
    "# BEGIN_YOUR_CODE\n",
    "\n",
    "# END_YOUR_CODE"
   ]
  },
  {
   "cell_type": "code",
   "execution_count": null,
   "metadata": {
    "colab": {
     "base_uri": "https://localhost:8080/"
    },
    "id": "khuCG55GvnnO",
    "outputId": "37cc6fd7-43fa-460b-cf3a-56d2ac2001e9"
   },
   "outputs": [],
   "source": [
    "''' Multiply the Matrix A from previous question with a scalar 2\n",
    "'''\n",
    "\n",
    "# BEGIN_YOUR_CODE\n",
    "\n",
    "# END_YOUR_CODE"
   ]
  },
  {
   "cell_type": "code",
   "execution_count": null,
   "metadata": {
    "colab": {
     "base_uri": "https://localhost:8080/"
    },
    "id": "KVFM3ERnvnnP",
    "outputId": "e1ea4298-aada-4028-9e86-66f2148d022d"
   },
   "outputs": [],
   "source": [
    "''' Element-wise multiplication\n",
    "Define two matrices A and B 2x4 with random values from 0 to 9. Perform element-wise multiplication of Matrices A and B\n",
    "''' \n",
    "\n",
    "# BEGIN_YOUR_CODE\n",
    "A = \n",
    "B = \n",
    "multiplicaiton = \n",
    "# END_YOUR_CODE\n",
    "\n",
    "print('\\nMatrix A is \\n{0} \\nMatrix B is \\n{1}, \\nTheir element-wise multiplication is \\n{2}'.format(A, B, multiplicaiton))"
   ]
  },
  {
   "cell_type": "markdown",
   "metadata": {
    "id": "uiyFNoJivnnQ"
   },
   "source": [
    "<a id='part3'></a>\n",
    "## Part 3 - Algorithms [30 points]"
   ]
  },
  {
   "cell_type": "markdown",
   "metadata": {
    "id": "bE9PC_sEvnnQ"
   },
   "source": [
    "### Euclidian Distance\n",
    "\n",
    "Let point $p$ have Cartesian coordinates $(p_1,p_2)$ and let point $q$ have coordinates $(q_1,q_2)$. Then the distance between $p$ and $q$ is given by:\n",
    "    $d(p,q) = \\sqrt{(q_1-p_1)^2 + (q_2-p_2)^2}$.</math>"
   ]
  },
  {
   "cell_type": "code",
   "execution_count": null,
   "metadata": {
    "id": "eWfSpbVqvnnR"
   },
   "outputs": [],
   "source": [
    "''' Euclidean distance\n",
    "Using numpy library return the Euclidean distance between two locations, where the locations are pairs of numbers (e.g., (3, 5)) '''\n",
    "\n",
    "def euclidean_distance(loc1: int, loc2: int) -> float:\n",
    "\n",
    "    # BEGIN_YOUR_CODE\n",
    "    raise Exception(\"Not implemented yet\")\n",
    "    \n",
    "    # END_YOUR_CODE"
   ]
  },
  {
   "cell_type": "code",
   "execution_count": null,
   "metadata": {
    "id": "aKXPrvGBvnnR"
   },
   "outputs": [],
   "source": [
    "def euclidean_distance_test():\n",
    "    random.seed(34)\n",
    "    for _ in range(10):\n",
    "        x1 = random.randint(0, 10)\n",
    "        x2 = random.randint(0, 10)\n",
    "        y1 = random.randint(0, 10)\n",
    "        y2 = random.randint(0, 10)\n",
    "        dist = euclidean_distance((x1, x2), (y1, y2))\n",
    "    return('Loc1 is ({0}, {1}), loc2 is ({2}, {3}). Euclidian disctance is {4}.'.format(x1, x2, y1, y2, dist))"
   ]
  },
  {
   "cell_type": "code",
   "execution_count": null,
   "metadata": {
    "colab": {
     "base_uri": "https://localhost:8080/"
    },
    "id": "yI3g4R1hvnnR",
    "outputId": "3cc7c267-1e95-4d8c-a9b4-ee112feb311b"
   },
   "outputs": [],
   "source": [
    "if __name__ == '__main__':\n",
    "    print(euclidean_distance_test())"
   ]
  },
  {
   "cell_type": "markdown",
   "metadata": {
    "id": "lTuFruDrvnnR"
   },
   "source": [
    "### String Operations"
   ]
  },
  {
   "cell_type": "code",
   "execution_count": null,
   "metadata": {
    "id": "AGJHIeXkvnnS"
   },
   "outputs": [],
   "source": [
    "''' Alphabetically first word\n",
    "Given a string, lowecase, sort our all words in the alphabetical order and return the word that comes first.\n",
    "If the input text is an empty string, return an empty string or throw an error. '''\n",
    "\n",
    "def first_word(text: str) -> str:\n",
    "    \n",
    "    # BEGIN_YOUR_CODE\n",
    "    raise Exception(\"Not implemented yet\")\n",
    "    \n",
    "    # END_YOUR_CODE"
   ]
  },
  {
   "cell_type": "code",
   "execution_count": null,
   "metadata": {
    "id": "Suevhw9TvnnS"
   },
   "outputs": [],
   "source": [
    "def first_word_test():\n",
    "    result0 = first_word('This IS A teSt')\n",
    "    result1 = first_word('CSE595 Fundamentals of AI')\n",
    "    result2 = first_word('Random PArt')\n",
    "    result3 = first_word('Dog, Cat, Elephant, Wolf, Zebra')\n",
    "    return result0, result1, result2, result3"
   ]
  },
  {
   "cell_type": "code",
   "execution_count": null,
   "metadata": {
    "colab": {
     "base_uri": "https://localhost:8080/"
    },
    "id": "DfSoFXLrvnnT",
    "outputId": "3d6d98f7-6ba5-41da-f3f1-2bfd7f048955"
   },
   "outputs": [],
   "source": [
    "if __name__ == '__main__':\n",
    "    print(first_word_test())"
   ]
  },
  {
   "cell_type": "markdown",
   "metadata": {
    "id": "zW6tTqawDOBv"
   },
   "source": [
    "## Load from Drive*\n",
    "\n",
    "*If you are using Goolge Colab, uncomment the following piece of code and verify the file using the command, if you can see your file ```museum.csv``` you are good to go."
   ]
  },
  {
   "cell_type": "code",
   "execution_count": null,
   "metadata": {},
   "outputs": [],
   "source": [
    "# !pwd\n",
    "# !ls"
   ]
  },
  {
   "cell_type": "code",
   "execution_count": null,
   "metadata": {
    "id": "nV7Jv5SPDGsy"
   },
   "outputs": [],
   "source": [
    "#from google.colab import drive\n",
    "#drive.mount('/content/drive')\n",
    "#%cd ..\n",
    "#%cd /content/drive/MyDrive"
   ]
  },
  {
   "cell_type": "markdown",
   "metadata": {
    "id": "zGMa8NVpvnnU"
   },
   "source": [
    "<a id='part4'></a>\n",
    "##  Part 4 - Pandas Basics [20 points]\n",
    "\n",
    "Some important resources:\n",
    "\n",
    "- [A Pandas guide](https://pandasguide.readthedocs.io/en/latest/) covers fundamental information about the package\n",
    "\n",
    "- [Pandas Cheat Sheet](https://www.datacamp.com/community/blog/python-pandas-cheat-sheet)"
   ]
  },
  {
   "cell_type": "code",
   "execution_count": null,
   "metadata": {
    "id": "-JA6l-hpvnnU"
   },
   "outputs": [],
   "source": [
    "'''Install and import pandas library\n",
    "'''\n",
    "# BEGIN_YOUR_CODE\n",
    "\n",
    "# END_YOUR_CODE"
   ]
  },
  {
   "cell_type": "code",
   "execution_count": null,
   "metadata": {
    "colab": {
     "base_uri": "https://localhost:8080/",
     "height": 610
    },
    "id": "vNYL_RNyvnnV",
    "outputId": "dc638bb0-e611-4d0b-8d0b-03dc0d8e0906"
   },
   "outputs": [],
   "source": [
    "'''Read given 'DataFile' and extract into Dataframe\n",
    "'''\n",
    "\n",
    "# BEGIN_YOUR_CODE\n",
    "\n",
    "# END_YOUR_CODE"
   ]
  },
  {
   "cell_type": "code",
   "execution_count": null,
   "metadata": {
    "colab": {
     "base_uri": "https://localhost:8080/",
     "height": 312
    },
    "id": "nQhbLF7CvnnV",
    "outputId": "b2760574-8b6d-445d-cfe2-429e33b38825"
   },
   "outputs": [],
   "source": [
    "'''Provide the main statistics about the entries of the dataset (mean, std, etc.)\n",
    "'''\n",
    "\n",
    "# BEGIN_YOUR_CODE\n",
    "\n",
    "# END_YOUR_CODE"
   ]
  },
  {
   "cell_type": "code",
   "execution_count": null,
   "metadata": {
    "colab": {
     "base_uri": "https://localhost:8080/"
    },
    "id": "JnuZGhGwvnnW",
    "outputId": "632299d2-4913-40af-95f4-82ba06f9a477"
   },
   "outputs": [],
   "source": [
    "''' Print shape of the dataset '''\n",
    "\n",
    "# BEGIN_YOUR_CODE\n",
    "\n",
    "# END_YOUR_CODE"
   ]
  },
  {
   "cell_type": "code",
   "execution_count": null,
   "metadata": {
    "colab": {
     "base_uri": "https://localhost:8080/"
    },
    "id": "nFWD5zl8vnne",
    "outputId": "6e1ba9b2-534f-4273-d015-b08128a3b9fe"
   },
   "outputs": [],
   "source": [
    "''' Return all the colums names'''\n",
    "\n",
    "# BEGIN_YOUR_CODE\n",
    "\n",
    "# END_YOUR_CODE"
   ]
  },
  {
   "cell_type": "code",
   "execution_count": null,
   "metadata": {
    "colab": {
     "base_uri": "https://localhost:8080/"
    },
    "id": "6-1Dj0sGvnng",
    "outputId": "5fd43650-6e73-45a2-9161-77684330f89f"
   },
   "outputs": [],
   "source": [
    "''' Print a list of museums types '''\n",
    "\n",
    "# BEGIN_YOUR_CODE\n",
    "\n",
    "# END_YOUR_CODE"
   ]
  },
  {
   "cell_type": "code",
   "execution_count": null,
   "metadata": {
    "colab": {
     "base_uri": "https://localhost:8080/"
    },
    "id": "wUSzjQC3vnng",
    "outputId": "fcc6bb9b-01e8-4d31-8580-c621cb1bcc36"
   },
   "outputs": [],
   "source": [
    "''' Return insight about index(columns) of museum.csv '''\n",
    "\n",
    "# BEGIN_YOUR_CODE\n",
    "\n",
    "# END_YOUR_CODE"
   ]
  },
  {
   "cell_type": "markdown",
   "metadata": {
    "id": "YNq5ppEGvnnh"
   },
   "source": [
    "<a id='part5'></a>\n",
    "## Matplotlib Basics [20 points]"
   ]
  },
  {
   "cell_type": "markdown",
   "metadata": {
    "id": "MyidlhZlIPa2"
   },
   "source": [
    "Heatmaps are a useful plot tool which help us visualize the data density or distribution. Refer the below documentation for more details on heatmap.\n",
    "\n",
    "[Matplotlib tutorial](https://machinelearningknowledge.ai/matplotlib-heatmap-complete-tutorial-for-beginners/)\n",
    "\n",
    "**Note:** You can only use matplotlib library for the following tasks"
   ]
  },
  {
   "cell_type": "code",
   "execution_count": null,
   "metadata": {
    "id": "bfFqEdGEvnnh"
   },
   "outputs": [],
   "source": [
    "'''Install and import matplotlib library\n",
    "'''\n",
    "\n",
    "# BEGIN_YOUR_CODE\n",
    "\n",
    "# END_YOUR_CODE"
   ]
  },
  {
   "cell_type": "code",
   "execution_count": null,
   "metadata": {
    "colab": {
     "base_uri": "https://localhost:8080/",
     "height": 282
    },
    "id": "25-jR3OHstb_",
    "outputId": "39eaa5da-3359-4016-9202-41a575d92e37"
   },
   "outputs": [],
   "source": [
    "''' Heatmap\n",
    "Take any random numpy array of dimension 10x15 and plot a heatmap\n",
    "'''\n",
    "\n",
    "# BEGIN YOUR CODE\n",
    "\n",
    "# END YOUR CODE"
   ]
  },
  {
   "cell_type": "code",
   "execution_count": null,
   "metadata": {
    "colab": {
     "base_uri": "https://localhost:8080/",
     "height": 265
    },
    "id": "VD6WIdUU4-PA",
    "outputId": "26c87f7b-3c6d-4d3c-a218-6b34d1fe0f53"
   },
   "outputs": [],
   "source": [
    "'''For the given value x plot the function y = x^2 using list comprehension on y.\n",
    "You can check https://docs.python.org/3/tutorial/datastructures.html#list-comprehensions to learn how to use list comprehension\n",
    "'''\n",
    "\n",
    "x = range(15)\n",
    "\n",
    "# BEGIN YOUR CODE\n",
    "\n",
    "# END YOUR CODE"
   ]
  },
  {
   "cell_type": "code",
   "execution_count": null,
   "metadata": {
    "colab": {
     "base_uri": "https://localhost:8080/",
     "height": 268
    },
    "id": "GB4uqfd8K495",
    "outputId": "7b073e40-da0a-4654-ecc4-031252f8df69"
   },
   "outputs": [],
   "source": [
    "'''For the given value x plot the function y = x^3 using lambda function y.\n",
    "\n",
    "Lambda function is a small anonymous function which consist of a single expression, and is usually used when we need the function for a smaller duration\n",
    "https://realpython.com/python-lambda/\n",
    "'''\n",
    "\n",
    "x = range(15)\n",
    "\n",
    "# BEGIN YOUR CODE\n",
    "\n",
    "# END YOUR CODE\n"
   ]
  },
  {
   "cell_type": "code",
   "execution_count": null,
   "metadata": {},
   "outputs": [],
   "source": [
    "'''On one graph draw two lines:\n",
    "1) Plot the function y = x^3 using lambda function y (use your code from above)\n",
    "2) A scatter plot for y = x^4 using either list comprehension or lambda function for evaluating y\n",
    "'''\n",
    "\n",
    "x = range(15)\n",
    "\n",
    "# BEGIN YOUR CODE\n",
    "\n",
    "# END YOUR CODE"
   ]
  },
  {
   "cell_type": "code",
   "execution_count": null,
   "metadata": {
    "colab": {
     "base_uri": "https://localhost:8080/",
     "height": 265
    },
    "id": "AEbDCKYH7UfV",
    "outputId": "91484bff-8e4d-4901-e799-b38f48d5fadd"
   },
   "outputs": [],
   "source": [
    "'''Create subplots showing graphs of cos and sin side by side of each other\n",
    "the value of theta ranges from -15 to 15\n",
    "\n",
    "HINT: You might want to utilize np.linespace() or np.arrange() to create smooth curves\n",
    "'''\n",
    "\n",
    "import math\n",
    "\n",
    "# BEGIN YOUR CODE\n",
    "\n",
    "# END YOUR CODE"
   ]
  },
  {
   "cell_type": "code",
   "execution_count": null,
   "metadata": {},
   "outputs": [],
   "source": [
    "''' Museum (\"museum.csv\"): total number of museums per type\n",
    "\n",
    "Plot a bar graph which shows the total number of museums in USA corresponding to the museum type\n",
    "'''\n",
    "\n",
    "# BEGIN YOUR CODE\n",
    "\n",
    "# END YOUR CODE"
   ]
  },
  {
   "cell_type": "code",
   "execution_count": null,
   "metadata": {
    "colab": {
     "base_uri": "https://localhost:8080/",
     "height": 264
    },
    "id": "yENY45pIs_S9",
    "outputId": "5c7a6231-46fa-4d86-8e8d-a5e1b09fd8bf"
   },
   "outputs": [],
   "source": [
    "''' Museum (\"museum.csv\"): total number of museums per state\n",
    "\n",
    "Plot a graph which shows the total number of museums per each state (\"State (Physical Location)\")\n",
    "'''\n",
    "\n",
    "# BEGIN YOUR CODE\n",
    "\n",
    "# END YOUR CODE"
   ]
  },
  {
   "cell_type": "markdown",
   "metadata": {
    "id": "Oo6h1NH6R6Pq"
   },
   "source": [
    "#### Results analyzing\n",
    "\n",
    "Analyze the graph and answer the following two questions:\n",
    "\n",
    "**1) What is your inference from the above graph?**\n",
    "\n",
    "*YOUR ANSWER:*\n",
    "\n",
    "**2) Which state has 5th most number of museum?**\n",
    "\n",
    "*YOUR ANSWER:*\n"
   ]
  },
  {
   "cell_type": "markdown",
   "metadata": {
    "id": "toxZCPhevnni"
   },
   "source": [
    "## References Used\n",
    "\n",
    "**List below all the references you used to complete the assignment**"
   ]
  },
  {
   "cell_type": "code",
   "execution_count": null,
   "metadata": {
    "id": "YW_6TvjFrilZ"
   },
   "outputs": [],
   "source": []
  }
 ],
 "metadata": {
  "celltoolbar": "Raw Cell Format",
  "colab": {
   "collapsed_sections": [
    "uiyFNoJivnnQ",
    "bE9PC_sEvnnQ",
    "lTuFruDrvnnR",
    "zGMa8NVpvnnU",
    "toxZCPhevnni"
   ],
   "name": "fall21_eas595_Assignmnet1[INTERNAL].ipynb",
   "provenance": []
  },
  "kernelspec": {
   "display_name": "Python 3",
   "language": "python",
   "name": "python3"
  },
  "language_info": {
   "codemirror_mode": {
    "name": "ipython",
    "version": 3
   },
   "file_extension": ".py",
   "mimetype": "text/x-python",
   "name": "python",
   "nbconvert_exporter": "python",
   "pygments_lexer": "ipython3",
   "version": "3.8.5"
  }
 },
 "nbformat": 4,
 "nbformat_minor": 4
}
